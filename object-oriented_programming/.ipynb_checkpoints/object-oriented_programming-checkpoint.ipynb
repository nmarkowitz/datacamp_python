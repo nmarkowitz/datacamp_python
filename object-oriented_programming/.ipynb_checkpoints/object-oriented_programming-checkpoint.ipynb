{
 "cells": [
  {
   "cell_type": "markdown",
   "metadata": {},
   "source": [
    "# Object Oriented Programming in Python\n",
    "\n",
    "Noah Markowitz\n",
    "\n",
    "February 2019"
   ]
  },
  {
   "cell_type": "markdown",
   "metadata": {},
   "source": [
    "## What is Objected Oriented Programming\n",
    "\n",
    "Objected Oriented Programming (OOP):\n",
    "* Way to make logical groups of variables and functions reusable for generalized tasks\n",
    "* A way to build flexible and reusable code\n",
    "* It works like a recipe where you can supply the data and make it go through a series of specific commands\n",
    "\n",
    "As opposed to Object-Oriented programming, there's *Imperative Coding*\n",
    "\n",
    "**OOP**\n",
    "\n",
    "```\n",
    "class PrintList:\n",
    "    def __init__(self,numberlist):\n",
    "        self.numberlist = numberlist\n",
    "    \n",
    "    def print_list(self):\n",
    "        for item in self.numberlist:\n",
    "            print(f\"Item {item}\")\n",
    "\n",
    "A = PrintList([1,2,3])\n",
    "A.print_list()\n",
    "```\n",
    "\n",
    "**Imperative**\n",
    "\n",
    "\n",
    "```\n",
    "our_list = [1,2,3]\n",
    "for item in our_list:\n",
    "    print(f\"Item {item}\")\n",
    "```\n",
    "\n",
    "\n",
    "As the quantity of data gets larger, with the OOP style code, it becomes a bit more practical rather than making loops and loops"
   ]
  },
  {
   "cell_type": "markdown",
   "metadata": {},
   "source": [
    "### Reviewing Functions\n",
    "\n",
    "In this exercise, we will review functions, as they are key building blocks of object-oriented programs. For this, we will create a simple function `average_numbers()` which averages a list of numbers. "
   ]
  },
  {
   "cell_type": "code",
   "execution_count": 1,
   "metadata": {},
   "outputs": [
    {
     "name": "stdout",
     "output_type": "stream",
     "text": [
      "3.5\n"
     ]
    }
   ],
   "source": [
    "# Create function that returns the average of an integer list\n",
    "def average_numbers(num_list): \n",
    "    avg = sum(num_list)/float(len(num_list)) # divide by length of list\n",
    "    return avg\n",
    "\n",
    "# Take the average of a list: my_avg\n",
    "my_avg = average_numbers([1,2,3,4,5,6])\n",
    "\n",
    "# Print out my_avg\n",
    "print(my_avg)"
   ]
  },
  {
   "cell_type": "code",
   "execution_count": 2,
   "metadata": {},
   "outputs": [
    {
     "name": "stdout",
     "output_type": "stream",
     "text": [
      "[[1, 2, 3, 4], [5, 6, 7, 8]]\n"
     ]
    }
   ],
   "source": [
    "# Create a list that contains two lists: matrix\n",
    "matrix = [[1,2,3,4], [5,6,7,8]]\n",
    "\n",
    "# Print the matrix list\n",
    "print(matrix)"
   ]
  },
  {
   "cell_type": "markdown",
   "metadata": {},
   "source": [
    "### Internals of Numpy\n",
    "\n",
    "Essentially Numpy is the basis of pandas and many other packages\n",
    "\n",
    "Numpy arrays, unlike lists, can have multiple axes, they can be a n-dimensional matrix as opposed to a 1D list.\n",
    "\n",
    "Axis 0 - Rows\n",
    "Axis 1 - Columns\n",
    "\n",
    "Each axis is like a python list\n",
    "\n",
    "Create a function that returns a NumPy array\n",
    "In this exercise, we'll continue working with the numpy package and our previous structures.\n",
    "We'll create a NumPy array of the float (numerical) data type so that we can work with a multi-dimensional data objects, much like columns and rows in a spreadsheet."
   ]
  },
  {
   "cell_type": "code",
   "execution_count": 3,
   "metadata": {},
   "outputs": [
    {
     "name": "stdout",
     "output_type": "stream",
     "text": [
      "[[1. 2. 3. 4.]\n",
      " [5. 6. 7. 8.]]\n"
     ]
    }
   ],
   "source": [
    "# Import numpy as np\n",
    "import numpy as np\n",
    "\n",
    "# List input: my_matrix\n",
    "my_matrix = [[1,2,3,4], [5,6,7,8]] \n",
    "\n",
    "# Function that converts lists to arrays: return_array\n",
    "def return_array(matrix):\n",
    "    array = np.array(matrix, dtype = float)\n",
    "    return array\n",
    "    \n",
    "# Call return_array on my_matrix, and print the output\n",
    "print(return_array(my_matrix))"
   ]
  },
  {
   "cell_type": "markdown",
   "metadata": {},
   "source": [
    "### Intro to Objects\n",
    "\n",
    "What if we want to create the same `nd.array()` multiple times or reference it in different pieces of code? Use classes. \n",
    "\n",
    "`class` - Reusable chunk of code that has functions and variables\n",
    "\n",
    "Vocabulary changes a bit with this\n",
    "* Attribute/Class = Variable\n",
    "* Method = Function\n",
    "\n",
    "Classes are like a cookie cutter, and an object is the cookie made from the cookie cutter. \n",
    "* We can use the cookie cutter to make multiple cookies and each can have different fillings or toppings\n",
    "* However all cookies share similar properties\n",
    "* Class is a template for an object\n",
    "\n",
    "Creating a class\n",
    "We're going to be working on building a class, which is a way to organize functions and variables in Python."
   ]
  },
  {
   "cell_type": "code",
   "execution_count": 4,
   "metadata": {},
   "outputs": [],
   "source": [
    "# Create a class: DataShell\n",
    "class DataShell: \n",
    "    pass"
   ]
  },
  {
   "cell_type": "markdown",
   "metadata": {},
   "source": [
    "`pass` means no context or values are being put into the class yet. It will skip over and go to the next executable piece of code. \n",
    "\n",
    "Remember: **Objects are instances of Classes. Classes are templates**, not the other way around\n",
    "\n",
    "---\n"
   ]
  },
  {
   "cell_type": "markdown",
   "metadata": {},
   "source": [
    "## Deep Dive into Classes and Objects\n",
    "\n",
    "Classes have a constructor function `__init__` to create the instance. Functions defined within the class definition are methods\n",
    "\n",
    "Parts of a python class are:\n",
    "* Constructor\n",
    "* Methods\n",
    "* Attributes\n",
    "\n",
    "Here's what a fully constructed class looks like\n",
    "```\n",
    "class DataShell:\n",
    "    #constructor\n",
    "    def __init__(self, filename):\n",
    "        self.filename = filename\n",
    "\n",
    "    def create_datashell(self):\n",
    "        self.array = np.genfromtxt(self.filename, delimiter=',', dtype=None)\n",
    "        return self.array\n",
    "\n",
    "    def rename_column(self, old_colname, new_colname):\n",
    "        for index, value in enumerate(self.array[0]):\n",
    "            if value == old_colname.encode('UTF-8'):\n",
    "                self.array[0][index] = new_colname\n",
    "        return self.array\n",
    "\n",
    "    def show_shell(self):\n",
    "        print(self.array)\n",
    "\n",
    "    def five_figure_summary(self, col_pos):\n",
    "        statistics = stats.describe(self.array[1:,col_pos].astype(np.float))\n",
    "        return f\"Five-figure stats of column {col_position}: {statistics}\"\n",
    "```"
   ]
  },
  {
   "cell_type": "markdown",
   "metadata": {},
   "source": [
    "### Creating an Instance\n",
    "\n",
    "As we learned earlier, a class is like a blueprint: we can make many copies of our class. When we do this, we say that we are instantiating our class. These instances are called objects.\n",
    "\n",
    "Here is an example of class instantiation:\n",
    "\n",
    "`object_name = ClassName()`"
   ]
  },
  {
   "cell_type": "code",
   "execution_count": 5,
   "metadata": {},
   "outputs": [
    {
     "name": "stdout",
     "output_type": "stream",
     "text": [
      "<__main__.DataShell object at 0x1069a70b8>\n"
     ]
    }
   ],
   "source": [
    "# Create empty class: DataShell\n",
    "class DataShell:\n",
    "  \n",
    "    # Pass statement\n",
    "    pass\n",
    "\n",
    "# Instantiate DataShell: my_data_shell\n",
    "my_data_shell = DataShell()\n",
    "\n",
    "# Print my_data_shell\n",
    "print(my_data_shell)"
   ]
  },
  {
   "cell_type": "markdown",
   "metadata": {},
   "source": [
    "### Initializing a class \n",
    "\n",
    "The `__init__` method and the `self` parameter for objects\n",
    "\n",
    "The `__init__` method is the constructor. Called automatically when object is created and therefore sets values for the object. It's like the container for all the ingredients for the recipe of an object\n",
    "\n",
    "`self` represents the instance of the class. It references the current instance of the class\n",
    "\n",
    "EX:\n",
    "\n",
    "```\n",
    "class Dinosaur:\n",
    "    def __init__(self):\n",
    "        self.tail = 'Yes'\n",
    "```"
   ]
  },
  {
   "cell_type": "code",
   "execution_count": 6,
   "metadata": {},
   "outputs": [
    {
     "name": "stdout",
     "output_type": "stream",
     "text": [
      "<__main__.DataShell object at 0x1069a73c8>\n"
     ]
    }
   ],
   "source": [
    "# Create class: DataShell\n",
    "class DataShell:\n",
    "  \n",
    "\t# Initialize class with self argument\n",
    "    def __init__(self):\n",
    "      \n",
    "        # Pass statement\n",
    "        pass\n",
    "\n",
    "# Instantiate DataShell: my_data_shell\n",
    "my_data_shell = DataShell()\n",
    "\n",
    "# Print my_data_shell\n",
    "print(my_data_shell)"
   ]
  },
  {
   "cell_type": "markdown",
   "metadata": {},
   "source": [
    "#### Instance Variables\n",
    "\n",
    "Class instances are useful in that we can store values in them at the time of instantiation. We store these values in instance variables. This means that we can have many instances of the same class whose instance variables hold different values!"
   ]
  },
  {
   "cell_type": "code",
   "execution_count": 7,
   "metadata": {},
   "outputs": [
    {
     "name": "stdout",
     "output_type": "stream",
     "text": [
      "10\n"
     ]
    }
   ],
   "source": [
    "# Create class: DataShell\n",
    "class DataShell:\n",
    "  \n",
    "\t# Initialize class with self and integerInput arguments\n",
    "    def __init__(self, integerInput):\n",
    "      \n",
    "\t\t# Set data as instance variable, and assign the value of integerInput\n",
    "        self.data = integerInput\n",
    "\n",
    "# Declare variable x with value of 10\n",
    "x = 10    \n",
    "\n",
    "# Instantiate DataShell passing x as argument: my_data_shell\n",
    "my_data_shell = DataShell(x)\n",
    "\n",
    "# Print my_data_shell\n",
    "print(my_data_shell.data)"
   ]
  },
  {
   "cell_type": "markdown",
   "metadata": {},
   "source": [
    "Above `data` is an instance variable\n",
    "\n",
    "Notice that instance variables live in the body of the initialization method, as they are initialized when the object is instantiated. \n",
    "\n",
    "Also important to notice that they are preceded by self., as this is referring to the instance itself."
   ]
  },
  {
   "cell_type": "markdown",
   "metadata": {},
   "source": [
    "Now we'll create multiple isntance variables. We will declare two instance variables: `identifier` and `data`"
   ]
  },
  {
   "cell_type": "code",
   "execution_count": 8,
   "metadata": {},
   "outputs": [
    {
     "name": "stdout",
     "output_type": "stream",
     "text": [
      "100\n",
      "[1, 2, 3, 4, 5]\n"
     ]
    }
   ],
   "source": [
    "# Create class: DataShell\n",
    "class DataShell:\n",
    "  \n",
    "\t# Initialize class with self, identifier and data arguments\n",
    "    def __init__(self, identifier, data):\n",
    "      \n",
    "\t\t# Set identifier and data as instance variables, assigning value of input arguments\n",
    "        self.identifier = identifier\n",
    "        self.data = data\n",
    "\n",
    "# Declare variable x with value of 100, and y with list of integers from 1 to 5\n",
    "x = 100\n",
    "y = [1, 2, 3, 4, 5]\n",
    "\n",
    "# Instantiate DataShell passing x and y as arguments: my_data_shell\n",
    "my_data_shell = DataShell(x,y)\n",
    "\n",
    "# Print my_data_shell.identifier\n",
    "print(my_data_shell.identifier)\n",
    "\n",
    "# Print my_data_shell.data\n",
    "print(my_data_shell.data)"
   ]
  },
  {
   "cell_type": "markdown",
   "metadata": {},
   "source": [
    "#### Class and Instance Variables\n",
    "\n",
    "Static Variables - Variables that don't change no matter what we do to members of class\n",
    "\n",
    "Instance Variable - Set when the class is called and passed\n",
    "\n",
    "**Class Variables**\n",
    "\n",
    "We saw that we can specify different instance variables. These are a form of static variables\n",
    "\n",
    "But, what if we want any instance of a class to hold the same value for a specific variable? Enter class variables.\n",
    "\n",
    "Class variables must not be specified at the time of instantiation and instead, are declared/specified at the class definition phase."
   ]
  },
  {
   "cell_type": "code",
   "execution_count": 9,
   "metadata": {},
   "outputs": [
    {
     "name": "stdout",
     "output_type": "stream",
     "text": [
      "DataShell\n"
     ]
    }
   ],
   "source": [
    "# Create class: DataShell\n",
    "class DataShell:\n",
    "  \n",
    "    # Declare a class variable family, and assign value of \"DataShell\"\n",
    "    family = \"DataShell\"\n",
    "    \n",
    "    # Initialize class with self, identifier arguments\n",
    "    def __init__(self, identifier):\n",
    "      \n",
    "        # Set identifier as instance variable of input argument\n",
    "        self.identifier = identifier\n",
    "\n",
    "# Declare variable x with value of 100\n",
    "x = 100\n",
    "\n",
    "# Instantiate DataShell passing x as argument: my_data_shell\n",
    "my_data_shell = DataShell(x)\n",
    "\n",
    "# Print my_data_shell class variable family\n",
    "print(my_data_shell.family)"
   ]
  },
  {
   "cell_type": "markdown",
   "metadata": {},
   "source": [
    "**Overriding Class Variables**\n",
    "\n",
    "Sometimes our object instances have class variables whose values are not correct, and hence, not useful. For this reason it makes sense to modify our object's class variables."
   ]
  },
  {
   "cell_type": "code",
   "execution_count": 10,
   "metadata": {},
   "outputs": [
    {
     "name": "stdout",
     "output_type": "stream",
     "text": [
      "DataShell\n",
      "NotDataShell\n"
     ]
    }
   ],
   "source": [
    "# Create class: DataShell\n",
    "class DataShell:\n",
    "  \n",
    "    # Declare a class variable family, and assign value of \"DataShell\"\n",
    "    family = \"DataShell\"\n",
    "    \n",
    "    # Initialize class with self, identifier arguments\n",
    "    def __init__(self, identifier):\n",
    "      \n",
    "        # Set identifier as instance variables, assigning value of input arguments\n",
    "        self.identifier = identifier\n",
    "\n",
    "# Declare variable x with value of 100\n",
    "x = 100\n",
    "\n",
    "# Instantiate DataShell passing x and y as arguments: my_data_shell\n",
    "my_data_shell = DataShell(x)\n",
    "\n",
    "# Print my_data_shell class variable family\n",
    "print(my_data_shell.family)\n",
    "\n",
    "# Override the my_data_shell.family value with \"NotDataShell\"\n",
    "my_data_shell.family = \"NotDataShell\"\n",
    "\n",
    "# Print my_data_shell class variable family once again\n",
    "print(my_data_shell.family)"
   ]
  },
  {
   "cell_type": "markdown",
   "metadata": {},
   "source": [
    "### Methods in Classes\n",
    "\n",
    "Methods are functions within classes\n",
    "\n",
    "Below a simple method `print_static()` is defined and run"
   ]
  },
  {
   "cell_type": "code",
   "execution_count": 11,
   "metadata": {},
   "outputs": [
    {
     "name": "stdout",
     "output_type": "stream",
     "text": [
      "You just executed a class method!\n"
     ]
    }
   ],
   "source": [
    "# Create class: DataShell\n",
    "class DataShell:\n",
    "  \n",
    "\t# Initialize class with self argument\n",
    "    def __init__(self):\n",
    "        pass\n",
    "      \n",
    "\t# Define class method which takes self argument: print_static\n",
    "    def print_static(self):\n",
    "        # Print string\n",
    "        print(\"You just executed a class method!\")\n",
    "        \n",
    "# Instantiate DataShell taking no arguments: my_data_shell\n",
    "my_data_shell = DataShell()\n",
    "\n",
    "# Call the print_static method of your newly created object\n",
    "my_data_shell.print_static()"
   ]
  },
  {
   "cell_type": "markdown",
   "metadata": {},
   "source": [
    "Now another"
   ]
  },
  {
   "cell_type": "code",
   "execution_count": 12,
   "metadata": {},
   "outputs": [
    {
     "name": "stdout",
     "output_type": "stream",
     "text": [
      "[1, 2, 3, 4, 5, 6, 7, 8, 9, 10]\n"
     ]
    }
   ],
   "source": [
    "# Create class: DataShell\n",
    "class DataShell:\n",
    "  \n",
    "\t# Initialize class with self and dataList as arguments\n",
    "    def __init__(self, dataList):\n",
    "      \t# Set data as instance variable, and assign it the value of dataList\n",
    "        self.data = dataList\n",
    "        \n",
    "\t# Define class method which takes self argument: show\n",
    "    def show(self):\n",
    "        # Print the instance variable data\n",
    "        print(self.data)\n",
    "\n",
    "# Declare variable with list of integers from 1 to 10: integer_list   \n",
    "integer_list = [1, 2, 3, 4, 5, 6, 7, 8, 9, 10]\n",
    "        \n",
    "# Instantiate DataShell taking integer_list as argument: my_data_shell\n",
    "my_data_shell = DataShell(integer_list)\n",
    "\n",
    "# Call the show method of your newly created object\n",
    "my_data_shell.show()"
   ]
  },
  {
   "cell_type": "markdown",
   "metadata": {},
   "source": [
    "A more interesting one"
   ]
  },
  {
   "cell_type": "code",
   "execution_count": 13,
   "metadata": {},
   "outputs": [
    {
     "name": "stdout",
     "output_type": "stream",
     "text": [
      "[1, 2, 3, 4, 5, 6, 7, 8, 9, 10]\n",
      "5.5\n"
     ]
    }
   ],
   "source": [
    "# Create class: DataShell\n",
    "class DataShell:\n",
    "  \n",
    "\t# Initialize class with self and dataList as arguments\n",
    "    def __init__(self, dataList):\n",
    "      \t# Set data as instance variable, and assign it the value of dataList\n",
    "        self.data = dataList\n",
    "        \n",
    "\t# Define method that prints data: show\n",
    "    def show(self):\n",
    "        print(self.data)\n",
    "        \n",
    "    # Define method that prints average of data: avg \n",
    "    def avg(self):\n",
    "        # Declare avg and assign it the average of data\n",
    "        avg = sum(self.data)/float(len(self.data))\n",
    "        # Print avg\n",
    "        print(avg)\n",
    "        \n",
    "# Instantiate DataShell taking integer_list as argument: my_data_shell\n",
    "my_data_shell = DataShell(integer_list)\n",
    "\n",
    "# Call the show and avg methods of your newly created object\n",
    "my_data_shell.show()\n",
    "my_data_shell.avg()"
   ]
  },
  {
   "cell_type": "markdown",
   "metadata": {},
   "source": [
    "## Fancy classes, fancy objects\n",
    "\n",
    "Now to apply classes to data\n",
    "\n",
    "Using the `return` statement"
   ]
  },
  {
   "cell_type": "code",
   "execution_count": 14,
   "metadata": {},
   "outputs": [
    {
     "name": "stdout",
     "output_type": "stream",
     "text": [
      "[1, 2, 3, 4, 5, 6, 7, 8, 9, 10]\n",
      "5.5\n"
     ]
    }
   ],
   "source": [
    "# Create class: DataShell\n",
    "class DataShell:\n",
    "  \n",
    "\t# Initialize class with self and dataList as arguments\n",
    "    def __init__(self, dataList):\n",
    "      \t# Set data as instance variable, and assign it the value of dataList\n",
    "        self.data = dataList\n",
    "        \n",
    "\t# Define method that returns data: show\n",
    "    def show(self):\n",
    "        return self.data\n",
    "        \n",
    "    # Define method that prints average of data: avg \n",
    "    def avg(self):\n",
    "        # Declare avg and assign it the average of data\n",
    "        avg = sum(self.data)/float(len(self.data))\n",
    "        # Return avg\n",
    "        return avg\n",
    "\n",
    "integer_list = [1, 2, 3, 4, 5, 6, 7, 8, 9, 10]\n",
    "\n",
    "# Instantiate DataShell taking integer_list as argument: my_data_shell\n",
    "my_data_shell = DataShell(integer_list)\n",
    "\n",
    "# Print output of your object's show method\n",
    "print(my_data_shell.show())\n",
    "\n",
    "# Print output of your object's avg method\n",
    "print(my_data_shell.avg())"
   ]
  },
  {
   "cell_type": "code",
   "execution_count": 15,
   "metadata": {},
   "outputs": [
    {
     "name": "stdout",
     "output_type": "stream",
     "text": [
      "         country code  year  life_expectancy\n",
      "0  United States  USA  1880        39.410000\n",
      "1  United States  USA  1890        45.209999\n",
      "2  United States  USA  1901        49.299999\n",
      "3  United States  USA  1902        50.500000\n",
      "4  United States  USA  1903        50.599998\n"
     ]
    }
   ],
   "source": [
    "# Load numpy as np and pandas as pd\n",
    "import numpy as np\n",
    "import pandas as pd\n",
    "\n",
    "# Create class: DataShell\n",
    "class DataShell:\n",
    "  \n",
    "    # Initialize class with self and inputFile\n",
    "    def __init__(self, inputFile):\n",
    "        self.file = inputFile\n",
    "        \n",
    "    # Define generate_csv method, with self argument\n",
    "    def generate_csv(self):\n",
    "        self.data_as_csv = pd.read_csv(self.file)\n",
    "        return self.data_as_csv\n",
    "\n",
    "# Instantiate DataShell with us_life_expectancy as input argument\n",
    "data_shell = DataShell('us_life_expectancy.csv')\n",
    "\n",
    "# Call data_shell's generate_csv method, assign it to df\n",
    "df = data_shell.generate_csv()\n",
    "\n",
    "# Print df\n",
    "print(df.head())"
   ]
  },
  {
   "cell_type": "markdown",
   "metadata": {},
   "source": [
    "### Data as Attributes\n",
    "\n",
    "In the previous coding exercise you wrote a method within your DataShell class that returns a Pandas Dataframe.\n",
    "\n",
    "In this one, we will cook the data into our class, as an instance variable. This is so that we can do fancy things later, such as renaming columns, as well as getting descriptive statistics."
   ]
  },
  {
   "cell_type": "code",
   "execution_count": 16,
   "metadata": {},
   "outputs": [
    {
     "name": "stdout",
     "output_type": "stream",
     "text": [
      "         country code  year  life_expectancy\n",
      "0  United States  USA  1880        39.410000\n",
      "1  United States  USA  1890        45.209999\n",
      "2  United States  USA  1901        49.299999\n",
      "3  United States  USA  1902        50.500000\n",
      "4  United States  USA  1903        50.599998\n"
     ]
    }
   ],
   "source": [
    "# Import numpy as np, pandas as pd\n",
    "import numpy as np\n",
    "import pandas as pd\n",
    "\n",
    "# Create class: DataShell\n",
    "class DataShell:\n",
    "  \n",
    "    # Define initialization method\n",
    "    def __init__(self, filepath):\n",
    "        # Set filepath as instance variable  \n",
    "        self.filepath = filepath\n",
    "        # Set data_as_csv as instance variable\n",
    "        self.data_as_csv = pd.read_csv(filepath)\n",
    "\n",
    "# Instantiate DataShell as us_data_shell\n",
    "us_data_shell = DataShell('us_life_expectancy.csv')\n",
    "\n",
    "# Print your object's data_as_csv attribute\n",
    "print(us_data_shell.data_as_csv.head())"
   ]
  },
  {
   "cell_type": "markdown",
   "metadata": {},
   "source": [
    "Now your classes have the ability of storing data as instance variables, which means you can exercute methods on them!"
   ]
  },
  {
   "cell_type": "code",
   "execution_count": 17,
   "metadata": {},
   "outputs": [
    {
     "name": "stdout",
     "output_type": "stream",
     "text": [
      "country             object\n",
      "code                object\n",
      "year                 int64\n",
      "life_expectancy    float64\n",
      "dtype: object\n",
      "country             object\n",
      "country_code        object\n",
      "year                 int64\n",
      "life_expectancy    float64\n",
      "dtype: object\n"
     ]
    }
   ],
   "source": [
    "# Create class DataShell\n",
    "class DataShell:\n",
    "  \n",
    "    # Define initialization method\n",
    "    def __init__(self, filepath):\n",
    "        self.filepath = filepath\n",
    "        self.data_as_csv = pd.read_csv(filepath)\n",
    "    \n",
    "    # Define method rename_column, with arguments self, column_name, and new_column_name\n",
    "    def rename_column(self, column_name, new_column_name):\n",
    "        self.data_as_csv.columns = self.data_as_csv.columns.str.replace(column_name, new_column_name)\n",
    "\n",
    "# Instantiate DataShell as us_data_shell with argument us_life_expectancy\n",
    "us_data_shell = DataShell('us_life_expectancy.csv')\n",
    "\n",
    "# Print the datatype of your object's data_as_csv attribute\n",
    "print(us_data_shell.data_as_csv.dtypes)\n",
    "\n",
    "# Rename your objects column 'code' to 'country_code'\n",
    "us_data_shell.rename_column('code', 'country_code')\n",
    "\n",
    "# Again, print the datatype of your object's data_as_csv attribute\n",
    "print(us_data_shell.data_as_csv.dtypes)"
   ]
  },
  {
   "cell_type": "markdown",
   "metadata": {},
   "source": [
    "#### Self-Describing DataShells\n",
    "\n",
    "In this exercise you will add functionality to your DataShell class such that it returns information about itself."
   ]
  },
  {
   "cell_type": "code",
   "execution_count": 18,
   "metadata": {},
   "outputs": [
    {
     "name": "stdout",
     "output_type": "stream",
     "text": [
      "              year  life_expectancy\n",
      "count   117.000000       117.000000\n",
      "mean   1956.752137        66.556684\n",
      "std      34.398252         9.551079\n",
      "min    1880.000000        39.410000\n",
      "25%    1928.000000        58.500000\n",
      "50%    1957.000000        69.599998\n",
      "75%    1986.000000        74.772003\n",
      "max    2015.000000        79.244003\n"
     ]
    }
   ],
   "source": [
    "# Create class DataShell\n",
    "class DataShell:\n",
    "\n",
    "    # Define initialization method\n",
    "    def __init__(self, filepath):\n",
    "        self.filepath = filepath\n",
    "        self.data_as_csv = pd.read_csv(filepath)\n",
    "\n",
    "    # Define method rename_column, with arguments self, column_name, and new_column_name\n",
    "    def rename_column(self, column_name, new_column_name):\n",
    "        self.data_as_csv.columns = self.data_as_csv.columns.str.replace(column_name, new_column_name)\n",
    "        \n",
    "    # Define get_stats method, with argument self\n",
    "    def get_stats(self):\n",
    "        # Return a description data_as_csv\n",
    "        return self.data_as_csv.describe()\n",
    "    \n",
    "# Instantiate DataShell as us_data_shell\n",
    "us_data_shell = DataShell('us_life_expectancy.csv')\n",
    "\n",
    "# Print the output of your objects get_stats method\n",
    "print(us_data_shell.get_stats())"
   ]
  },
  {
   "cell_type": "markdown",
   "metadata": {},
   "source": [
    "### OOP Best Practices\n",
    "\n",
    "3 good things to do \n",
    "\n",
    "1. Read other peoples code\n",
    "\n",
    "2. Use PEP 8 style\n",
    "\n",
    "3. Use combo of the two\n",
    "\n",
    "One of the best ways to get good at coding is to see other peoples code\n",
    "\n",
    "Documentation is also critical"
   ]
  },
  {
   "cell_type": "markdown",
   "metadata": {},
   "source": [
    "## Inheritance\n",
    "\n",
    "About reusability. Classes can be copied with subtle or major changes. \n",
    "\n",
    "Ex: Parent class is \"Dinosaur\" and child classes that inherit the properties of \"Dinosaur\" can be \"TRex\" and \"Pterodactyl\"\n",
    "\n",
    "Inheritance is useful because you can extend the functionality of your current class without overwriting it.\n",
    "\n",
    "**Easy Key to tell Inheritance**\n",
    "\n",
    "* A Pterodactyl is-a Dinosaur\n",
    "* A Tyrannosaurus is-a Dinosaur\n",
    "* Is a Pterodactyl a dinosaur? Yes,pterodactyl inherits from dinosaur.\n",
    "* Is a Tyranosaurus a pterodactyl? No, but they're both dinosaurs.\n",
    "* Is a dinosaur a pterodactyl? No, so it doesn't work the other way, either"
   ]
  },
  {
   "cell_type": "markdown",
   "metadata": {},
   "source": [
    "Below is an example of inheritance using animals. There's a general class, `Animal`, and `Mammal` and `Reptile` are Animals. "
   ]
  },
  {
   "cell_type": "code",
   "execution_count": 19,
   "metadata": {},
   "outputs": [
    {
     "name": "stdout",
     "output_type": "stream",
     "text": [
      "<__main__.Mammal object at 0x1158d3f60>\n",
      "<__main__.Reptile object at 0x1158d3e48>\n"
     ]
    }
   ],
   "source": [
    "# Create a class Animal\n",
    "class Animal:\n",
    "\tdef __init__(self, name):\n",
    "\t\tself.name = name\n",
    "\n",
    "# Create a class Mammal, which inherits from Animal\n",
    "class Mammal(Animal):\n",
    "\tdef __init__(self, name, animal_type):\n",
    "\t\tself.animal_type = animal_type\n",
    "\n",
    "# Create a class Reptile, which also inherits from Animal\n",
    "class Reptile(Animal):\n",
    "\tdef __init__(self, name, animal_type):\n",
    "\t\tself.animal_type = animal_type\n",
    "\n",
    "# Instantiate a mammal with name 'Daisy' and animal_type 'dog': daisy\n",
    "daisy = Mammal('Daisy', 'dog')\n",
    "\n",
    "# Instantiate a reptile with name 'Stella' and animal_type 'alligator': stella\n",
    "stella = Reptile('Stella', 'alligator')\n",
    "\n",
    "# Print both objects\n",
    "print(daisy)\n",
    "print(stella)"
   ]
  },
  {
   "cell_type": "code",
   "execution_count": 20,
   "metadata": {},
   "outputs": [
    {
     "name": "stdout",
     "output_type": "stream",
     "text": [
      "Stella Spinal cord: True\n",
      "Stella temperature regularization: False\n",
      "Daisy Spinal cord: True\n",
      "Daisy temperature regularization: True\n"
     ]
    }
   ],
   "source": [
    "# Create a class Vertebrate\n",
    "class Vertebrate:\n",
    "    spinal_cord = True\n",
    "    def __init__(self, name):\n",
    "        self.name = name\n",
    "\n",
    "# Create a class Mammal, which inherits from Vertebrate\n",
    "class Mammal(Vertebrate):\n",
    "    def __init__(self, name, animal_type):\n",
    "        self.animal_type = animal_type\n",
    "        self.temperature_regulation = True\n",
    "\n",
    "# Create a class Reptile, which also inherits from Vertebrate\n",
    "class Reptile(Vertebrate):\n",
    "    def __init__(self, name, animal_type):\n",
    "        self.animal_type = animal_type\n",
    "        self.temperature_regulation = False\n",
    "\n",
    "# Instantiate a mammal with name 'Daisy' and animal_type 'dog': daisy\n",
    "daisy = Mammal('Daisy', 'dog')\n",
    "\n",
    "# Instantiate a reptile with name 'Stella' and animal_type 'alligator': stella\n",
    "stella = Reptile('Stella', 'alligator')\n",
    "\n",
    "# Print stella's attributes spinal_cord and temperature_regulation\n",
    "print(\"Stella Spinal cord: \" + str(stella.spinal_cord))\n",
    "print(\"Stella temperature regularization: \" + str(stella.temperature_regulation))\n",
    "\n",
    "# Print daisy's attributes spinal_cord and temperature_regulation\n",
    "print(\"Daisy Spinal cord: \" + str(daisy.spinal_cord))\n",
    "print(\"Daisy temperature regularization: \" + str(daisy.temperature_regulation))"
   ]
  },
  {
   "cell_type": "markdown",
   "metadata": {},
   "source": [
    "**Now Applying Inheritance to DataShell**"
   ]
  },
  {
   "cell_type": "code",
   "execution_count": 21,
   "metadata": {},
   "outputs": [
    {
     "name": "stdout",
     "output_type": "stream",
     "text": [
      "<__main__.DataShell object at 0x1158ccc18>\n"
     ]
    }
   ],
   "source": [
    "# Load numpy as np and pandas as pd\n",
    "import numpy as np\n",
    "import pandas as pd\n",
    "\n",
    "# Create class: DataShell\n",
    "class DataShell:\n",
    "    def __init__(self, inputFile):\n",
    "        self.file = inputFile\n",
    "\n",
    "# Instantiate DataShell as my_data_shell\n",
    "my_data_shell = DataShell('us_life_expectancy.csv')\n",
    "\n",
    "# Print my_data_shell\n",
    "print(my_data_shell)"
   ]
  },
  {
   "cell_type": "code",
   "execution_count": 22,
   "metadata": {},
   "outputs": [
    {
     "name": "stdout",
     "output_type": "stream",
     "text": [
      "         country code  year  life_expectancy\n",
      "0  United States  USA  1880        39.410000\n",
      "1  United States  USA  1890        45.209999\n",
      "2  United States  USA  1901        49.299999\n",
      "3  United States  USA  1902        50.500000\n",
      "4  United States  USA  1903        50.599998\n"
     ]
    }
   ],
   "source": [
    "# Load numpy as np and pandas as pd\n",
    "import numpy as np\n",
    "import pandas as pd\n",
    "\n",
    "# Create class: DataShell\n",
    "class DataShell:\n",
    "    def __init__(self, inputFile):\n",
    "        self.file = inputFile\n",
    "\n",
    "# Create class CsvDataShell, which inherits from DataShell\n",
    "class CsvDataShell(DataShell):\n",
    "    # Initialization method with arguments self, inputFile\n",
    "    def __init__(self, inputFile):\n",
    "        # Instance variable data\n",
    "        self.data = pd.read_csv(inputFile)\n",
    "\n",
    "# Instantiate CsvDataShell as us_data_shell, passing us_life_expectancy as argument\n",
    "us_data_shell = CsvDataShell('us_life_expectancy.csv')\n",
    "\n",
    "# Print us_data_shell.data\n",
    "print(us_data_shell.data.head())"
   ]
  },
  {
   "cell_type": "markdown",
   "metadata": {},
   "source": [
    "## Composition\n",
    "\n",
    "Taking elements of several classes to create a \"Frankenstein class\". One example is using pandas objects as data in classes"
   ]
  },
  {
   "cell_type": "code",
   "execution_count": 23,
   "metadata": {},
   "outputs": [
    {
     "name": "stdout",
     "output_type": "stream",
     "text": [
      "              year  life_expectancy\n",
      "count   117.000000       117.000000\n",
      "mean   1956.752137        66.556684\n",
      "std      34.398252         9.551079\n",
      "min    1880.000000        39.410000\n",
      "25%    1928.000000        58.500000\n",
      "50%    1957.000000        69.599998\n",
      "75%    1986.000000        74.772003\n",
      "max    2015.000000        79.244003\n"
     ]
    }
   ],
   "source": [
    "# Define abstract class DataShell\n",
    "class DataShell:\n",
    "    # Class variable family\n",
    "    family = 'DataShell'\n",
    "    # Initialization method with arguments, and instance variables\n",
    "    def __init__(self, name, filepath): \n",
    "        self.name = name\n",
    "        self.filepath = filepath\n",
    "\n",
    "# Define class CsvDataShell      \n",
    "class CsvDataShell(DataShell):\n",
    "    # Initialization method with arguments self, name, filepath\n",
    "    def __init__(self, name, filepath):\n",
    "        # Instance variable data\n",
    "        self.data = pd.read_csv(filepath)\n",
    "        # Instance variable stats\n",
    "        self.stats = self.data.describe()\n",
    "\n",
    "# Instantiate CsvDataShell as us_data_shell\n",
    "us_data_shell = CsvDataShell(\"US\", 'us_life_expectancy.csv')\n",
    "\n",
    "# Print us_data_shell.stats\n",
    "print(us_data_shell.stats)"
   ]
  },
  {
   "cell_type": "code",
   "execution_count": 24,
   "metadata": {},
   "outputs": [
    {
     "name": "stdout",
     "output_type": "stream",
     "text": [
      "              year  life_expectancy\n",
      "count   117.000000       117.000000\n",
      "mean   1956.752137        66.556684\n",
      "std      34.398252         9.551079\n",
      "min    1880.000000        39.410000\n",
      "25%    1928.000000        58.500000\n",
      "50%    1957.000000        69.599998\n",
      "75%    1986.000000        74.772003\n",
      "max    2015.000000        79.244003\n",
      "       country,code,year,life_expectancy\n",
      "count                                200\n",
      "unique                               200\n",
      "top            France,FRA,1957,69.045998\n",
      "freq                                   1\n"
     ]
    }
   ],
   "source": [
    "# Define abstract class DataShell\n",
    "class DataShell:\n",
    "    family = 'DataShell'\n",
    "    def __init__(self, name, filepath): \n",
    "        self.name = name\n",
    "        self.filepath = filepath\n",
    "\n",
    "# Define class CsvDataShell\n",
    "class CsvDataShell(DataShell):\n",
    "    def __init__(self, name, filepath):\n",
    "        self.data = pd.read_csv(filepath)\n",
    "        self.stats = self.data.describe()\n",
    "\n",
    "# Define class TsvDataShell\n",
    "class TsvDataShell(DataShell):\n",
    "    # Initialization method with arguments self, name, filepath\n",
    "    def __init__(self, name, filepath):\n",
    "        # Instance variable data\n",
    "        self.data = pd.read_table(filepath)\n",
    "        # Instance variable stats\n",
    "        self.stats = self.data.describe()\n",
    "\n",
    "# Instantiate CsvDataShell as us_data_shell, print us_data_shell.stats\n",
    "us_data_shell = CsvDataShell(\"US\", 'us_life_expectancy.csv')\n",
    "print(us_data_shell.stats)\n",
    "\n",
    "# Instantiate TsvDataShell as france_data_shell, print france_data_shell.stats\n",
    "france_data_shell = TsvDataShell('France', 'france_life_expectancy.csv')\n",
    "print(france_data_shell.stats)"
   ]
  },
  {
   "cell_type": "code",
   "execution_count": null,
   "metadata": {},
   "outputs": [],
   "source": []
  }
 ],
 "metadata": {
  "kernelspec": {
   "display_name": "Python 3",
   "language": "python",
   "name": "python3"
  },
  "language_info": {
   "codemirror_mode": {
    "name": "ipython",
    "version": 3
   },
   "file_extension": ".py",
   "mimetype": "text/x-python",
   "name": "python",
   "nbconvert_exporter": "python",
   "pygments_lexer": "ipython3",
   "version": "3.7.1"
  }
 },
 "nbformat": 4,
 "nbformat_minor": 2
}
