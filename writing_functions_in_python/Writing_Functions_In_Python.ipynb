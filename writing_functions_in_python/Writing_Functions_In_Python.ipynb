{
 "cells": [
  {
   "cell_type": "markdown",
   "metadata": {},
   "source": [
    "**Writing Functions in Python**\n",
    "\n",
    "October 2019\n",
    "\n",
    "Noah Markowitz"
   ]
  },
  {
   "cell_type": "code",
   "execution_count": 1,
   "metadata": {},
   "outputs": [],
   "source": [
    "import pandas as pd\n",
    "import numpy as np"
   ]
  },
  {
   "cell_type": "markdown",
   "metadata": {},
   "source": [
    "## Best Practices\n",
    "\n",
    "\n",
    "### Docstrings\n",
    "\n",
    "A good practice. Tells what purpose of function or class is. Docstring starts at the head of the function/class. Example below"
   ]
  },
  {
   "cell_type": "markdown",
   "metadata": {},
   "source": [
    "```\n",
    "\"\"\"Description of what function does\n",
    "\n",
    "Args: \n",
    "    arg_1 (str): Description of arg_1 that can break into another line \n",
    "        if needed. Extra lines are indented\n",
    "    arg_2 (int, optional): What optional when argument has a default value\n",
    "    \n",
    "Returns:\n",
    "    bool: Optional description of the return value\n",
    "    Extra lines not indented\n",
    "    \n",
    "Raises:\n",
    "    ValueError: Include any error types that the function intentially\n",
    "        raises\n",
    "        \n",
    "Notes:\n",
    "    See <website url> for more info\n",
    "\"\"\"\n",
    "```\n",
    "\n",
    "To access a docstring from a function or object do one of two things:\n",
    "    1. `print(my_function.__doc__)`\n",
    "    2. `import inspect; print(inspect.getdoc(my_function))`"
   ]
  },
  {
   "cell_type": "code",
   "execution_count": 2,
   "metadata": {},
   "outputs": [],
   "source": [
    "def count_letter(content, letter):\n",
    "  \"\"\"Count the number of times `letter` appears in `content`.\n",
    "\n",
    "  Args:\n",
    "    content (str): The string to search.\n",
    "    letter (str): The letter to search for.\n",
    "\n",
    "  Returns:\n",
    "    int\n",
    "\n",
    "  # Add a section detailing what errors might be raised\n",
    "  Raises:\n",
    "    ValueError: If `letter` is not a one-character string.\n",
    "  \"\"\"\n",
    "  if (not isinstance(letter, str)) or len(letter) != 1:\n",
    "    raise ValueError('`letter` must be a single character string.')\n",
    "  return len([char for char in content if char == letter])"
   ]
  },
  {
   "cell_type": "markdown",
   "metadata": {},
   "source": [
    "Ways to print Docstring"
   ]
  },
  {
   "cell_type": "code",
   "execution_count": 3,
   "metadata": {},
   "outputs": [
    {
     "name": "stdout",
     "output_type": "stream",
     "text": [
      "############################\n",
      "Count the number of times `letter` appears in `content`.\n",
      "\n",
      "  Args:\n",
      "    content (str): The string to search.\n",
      "    letter (str): The letter to search for.\n",
      "\n",
      "  Returns:\n",
      "    int\n",
      "\n",
      "  # Add a section detailing what errors might be raised\n",
      "  Raises:\n",
      "    ValueError: If `letter` is not a one-character string.\n",
      "  \n",
      "############################\n",
      "############################\n",
      "Count the number of times `letter` appears in `content`.\n",
      "\n",
      "Args:\n",
      "  content (str): The string to search.\n",
      "  letter (str): The letter to search for.\n",
      "\n",
      "Returns:\n",
      "  int\n",
      "\n",
      "# Add a section detailing what errors might be raised\n",
      "Raises:\n",
      "  ValueError: If `letter` is not a one-character string.\n",
      "############################\n",
      "############################\n",
      "Count the number of times `letter` appears in `content`.\n",
      "\n",
      "Args:\n",
      "  content (str): The string to search.\n",
      "  letter (str): The letter to search for.\n",
      "\n",
      "Returns:\n",
      "  int\n",
      "\n",
      "# Add a section detailing what errors might be raised\n",
      "Raises:\n",
      "  ValueError: If `letter` is not a one-character string.\n",
      "############################\n",
      "############################\n",
      "range(stop) -> range object\n",
      "range(start, stop[, step]) -> range object\n",
      "\n",
      "Return an object that produces a sequence of integers from start (inclusive)\n",
      "to stop (exclusive) by step.  range(i, j) produces i, i+1, i+2, ..., j-1.\n",
      "start defaults to 0, and stop is omitted!  range(4) produces 0, 1, 2, 3.\n",
      "These are exactly the valid indices for a list of 4 elements.\n",
      "When step is given, it specifies the increment (or decrement).\n",
      "############################\n",
      "############################\n",
      "print(value, ..., sep=' ', end='\\n', file=sys.stdout, flush=False)\n",
      "\n",
      "Prints the values to a stream, or to sys.stdout by default.\n",
      "Optional keyword arguments:\n",
      "file:  a file-like object (stream); defaults to the current sys.stdout.\n",
      "sep:   string inserted between values, default a space.\n",
      "end:   string appended after the last value, default a newline.\n",
      "flush: whether to forcibly flush the stream.\n",
      "############################\n"
     ]
    }
   ],
   "source": [
    "# Get the docstring with an attribute of count_letter()\n",
    "docstring = count_letter.__doc__\n",
    "border = '#' * 28\n",
    "print('{}\\n{}\\n{}'.format(border, docstring, border))\n",
    "\n",
    "# Get the docstring with a function from the inspect module\n",
    "import inspect\n",
    "docstring = inspect.getdoc(count_letter)\n",
    "border = '#' * 28\n",
    "print('{}\\n{}\\n{}'.format(border, docstring, border))\n",
    "\n",
    "# Print docstring for any function passed into build_tooltip\n",
    "def build_tooltip(function):\n",
    "  \"\"\"Create a tooltip for any function that shows the \n",
    "  function's docstring.\n",
    "  \n",
    "  Args:\n",
    "    function (callable): The function we want a tooltip for.\n",
    "    \n",
    "  Returns:\n",
    "    str\n",
    "  \"\"\"\n",
    "  # Use 'inspect' to get the docstring\n",
    "  docstring = inspect.getdoc(function)\n",
    "  border = '#' * 28\n",
    "  return '{}\\n{}\\n{}'.format(border, docstring, border)\n",
    "\n",
    "print(build_tooltip(count_letter))\n",
    "print(build_tooltip(range))\n",
    "print(build_tooltip(print))"
   ]
  },
  {
   "cell_type": "markdown",
   "metadata": {},
   "source": [
    "### Dry and \"Do One Thing\"\n",
    "\n",
    "DRY - Don't repeat yourself\n",
    "* Though it's useful to copy and paste code, there's big possibilities of errors being introduced such as when you need to adjust what variables/functions need to reference/access in each instancd\n",
    "\n",
    "Do One Thing - Every function should have a single responsibility\n",
    "* Rather than have a function do many things (like load then plot data), split a function into its' multiple components/responsibilities. Advantages include:\n",
    "    * More flexible\n",
    "    * More easily understood\n",
    "    * Simpler to test\n",
    "    * Simpler to debug\n",
    "    \n",
    "Refactoring - Changing/improving code a little bit at a time"
   ]
  },
  {
   "cell_type": "markdown",
   "metadata": {},
   "source": [
    "Improve the code below by writing a function:\n",
    "\n",
    "```\n",
    "# Standardize the GPAs for each year\n",
    "df['y1_z'] = (df.y1_gpa - df.y1_gpa.mean()) / df.y1_gpa.std()\n",
    "df['y2_z'] = (df.y2_gpa - df.y2_gpa.mean()) / df.y2_gpa.std()\n",
    "df['y3_z'] = (df.y3_gpa - df.y3_gpa.mean()) / df.y3_gpa.std()\n",
    "df['y4_z'] = (df.y4_gpa - df.y4_gpa.mean()) / df.y4_gpa.std()\n",
    "```\n",
    "\n",
    "It calculates z-scores of students GPA\n",
    "\n",
    ">Note: df is a pandas DataFrame where each row is a student with 4 columns of yearly student GPAs: y1_gpa, y2_gpa, y3_gpa, y4_gpa"
   ]
  },
  {
   "cell_type": "code",
   "execution_count": 4,
   "metadata": {},
   "outputs": [],
   "source": [
    "# Make a sample dataset to work with: 4 columns of random floats from 0-4\n",
    "df = pd.DataFrame(4*np.random.random((100, 4)), columns = ['y1_gpa', 'y2_gpa','y3_gpa','y4_gpa'])"
   ]
  },
  {
   "cell_type": "code",
   "execution_count": 5,
   "metadata": {},
   "outputs": [
    {
     "data": {
      "text/html": [
       "<div>\n",
       "<style scoped>\n",
       "    .dataframe tbody tr th:only-of-type {\n",
       "        vertical-align: middle;\n",
       "    }\n",
       "\n",
       "    .dataframe tbody tr th {\n",
       "        vertical-align: top;\n",
       "    }\n",
       "\n",
       "    .dataframe thead th {\n",
       "        text-align: right;\n",
       "    }\n",
       "</style>\n",
       "<table border=\"1\" class=\"dataframe\">\n",
       "  <thead>\n",
       "    <tr style=\"text-align: right;\">\n",
       "      <th></th>\n",
       "      <th>y1_gpa</th>\n",
       "      <th>y2_gpa</th>\n",
       "      <th>y3_gpa</th>\n",
       "      <th>y4_gpa</th>\n",
       "      <th>y1_z</th>\n",
       "      <th>y2_z</th>\n",
       "      <th>y3_z</th>\n",
       "      <th>y4_z</th>\n",
       "    </tr>\n",
       "  </thead>\n",
       "  <tbody>\n",
       "    <tr>\n",
       "      <th>0</th>\n",
       "      <td>2.729334</td>\n",
       "      <td>1.588427</td>\n",
       "      <td>2.894930</td>\n",
       "      <td>0.544082</td>\n",
       "      <td>0.487456</td>\n",
       "      <td>-0.467757</td>\n",
       "      <td>0.752001</td>\n",
       "      <td>-1.212174</td>\n",
       "    </tr>\n",
       "    <tr>\n",
       "      <th>1</th>\n",
       "      <td>2.153205</td>\n",
       "      <td>2.309773</td>\n",
       "      <td>3.581811</td>\n",
       "      <td>3.530328</td>\n",
       "      <td>-0.018477</td>\n",
       "      <td>0.130562</td>\n",
       "      <td>1.342040</td>\n",
       "      <td>1.231154</td>\n",
       "    </tr>\n",
       "    <tr>\n",
       "      <th>2</th>\n",
       "      <td>1.902150</td>\n",
       "      <td>1.870188</td>\n",
       "      <td>3.922563</td>\n",
       "      <td>3.116415</td>\n",
       "      <td>-0.238943</td>\n",
       "      <td>-0.234051</td>\n",
       "      <td>1.634750</td>\n",
       "      <td>0.892493</td>\n",
       "    </tr>\n",
       "    <tr>\n",
       "      <th>3</th>\n",
       "      <td>1.606540</td>\n",
       "      <td>3.634750</td>\n",
       "      <td>3.338554</td>\n",
       "      <td>3.903153</td>\n",
       "      <td>-0.498536</td>\n",
       "      <td>1.229562</td>\n",
       "      <td>1.133079</td>\n",
       "      <td>1.536197</td>\n",
       "    </tr>\n",
       "    <tr>\n",
       "      <th>4</th>\n",
       "      <td>1.221571</td>\n",
       "      <td>3.598102</td>\n",
       "      <td>1.163339</td>\n",
       "      <td>2.620465</td>\n",
       "      <td>-0.836599</td>\n",
       "      <td>1.199164</td>\n",
       "      <td>-0.735457</td>\n",
       "      <td>0.486709</td>\n",
       "    </tr>\n",
       "  </tbody>\n",
       "</table>\n",
       "</div>"
      ],
      "text/plain": [
       "     y1_gpa    y2_gpa    y3_gpa    y4_gpa      y1_z      y2_z      y3_z  \\\n",
       "0  2.729334  1.588427  2.894930  0.544082  0.487456 -0.467757  0.752001   \n",
       "1  2.153205  2.309773  3.581811  3.530328 -0.018477  0.130562  1.342040   \n",
       "2  1.902150  1.870188  3.922563  3.116415 -0.238943 -0.234051  1.634750   \n",
       "3  1.606540  3.634750  3.338554  3.903153 -0.498536  1.229562  1.133079   \n",
       "4  1.221571  3.598102  1.163339  2.620465 -0.836599  1.199164 -0.735457   \n",
       "\n",
       "       y4_z  \n",
       "0 -1.212174  \n",
       "1  1.231154  \n",
       "2  0.892493  \n",
       "3  1.536197  \n",
       "4  0.486709  "
      ]
     },
     "metadata": {},
     "output_type": "display_data"
    }
   ],
   "source": [
    "def standardize(column):\n",
    "  \"\"\"Standardize the values in a column.\n",
    "\n",
    "  Args:\n",
    "    column (pandas Series): The data to standardize.\n",
    "\n",
    "  Returns:\n",
    "    pandas Series: the values as z-scores\n",
    "  \"\"\"\n",
    "  # Finish the function so that it returns the z-scores\n",
    "  z_score = (column - column.mean()) / column.std()\n",
    "  return z_score\n",
    "\n",
    "# Use the standardize() function to calculate the z-scores\n",
    "df['y1_z'] = standardize(df['y1_gpa'])\n",
    "df['y2_z'] = standardize(df['y2_gpa'])\n",
    "df['y3_z'] = standardize(df['y3_gpa'])\n",
    "df['y4_z'] = standardize(df['y4_gpa'])\n",
    "\n",
    "# Show results\n",
    "display(df.head())"
   ]
  },
  {
   "cell_type": "markdown",
   "metadata": {},
   "source": [
    "Now try splitting this function that calculates mean and median into two separate functions\n",
    "\n",
    "```\n",
    "def mean_and_median(values):\n",
    "  \"\"\"Get the mean and median of a list of `values`\n",
    "\n",
    "  Args:\n",
    "    values (iterable of float): A list of numbers\n",
    "\n",
    "  Returns:\n",
    "    tuple (float, float): The mean and median\n",
    "  \"\"\"\n",
    "  mean = sum(values) / len(values)\n",
    "  midpoint = int(len(values) / 2)\n",
    "  if len(values) % 2 == 0:\n",
    "    median = (values[midpoint - 1] + values[midpoint]) / 2\n",
    "  else:\n",
    "    median = values[midpoint]\n",
    "\n",
    "  return mean, median\n",
    "```"
   ]
  },
  {
   "cell_type": "code",
   "execution_count": 6,
   "metadata": {},
   "outputs": [],
   "source": [
    "def mean(values):\n",
    "  \"\"\"Get the mean of a list of values\n",
    "\n",
    "  Args:\n",
    "    values (iterable of float): A list of numbers\n",
    "\n",
    "  Returns:\n",
    "    float\n",
    "  \"\"\"\n",
    "  # Write the mean() function\n",
    "  mean = sum(values) / len(values)\n",
    "  return mean\n",
    "\n",
    "def median(values):\n",
    "  \"\"\"Get the median of a list of values\n",
    "\n",
    "  Args:\n",
    "    values (iterable of float): A list of numbers\n",
    "\n",
    "  Returns:\n",
    "    float\n",
    "  \"\"\"\n",
    "  # Write the median() function\n",
    "  midpoint = int(len(values) / 2)\n",
    "  if len(values) % 2 == 0:\n",
    "    median = (values[midpoint - 1] + values[midpoint]) / 2\n",
    "  else:\n",
    "    median = values[midpoint]\n",
    "  return median"
   ]
  },
  {
   "cell_type": "markdown",
   "metadata": {},
   "source": [
    "### Use Immutable Object for Default Function Values\n",
    "\n",
    "Use:\n",
    "```\n",
    "# Use an immutable variable for the default argument \n",
    "def better_add_column(values, df=None):\n",
    "  # Update the function to create a default DataFrame\n",
    "  if df is None:\n",
    "    df = pandas.DataFrame()\n",
    "  df['col_{}'.format(len(df.columns))] = values\n",
    "  return df\n",
    "```\n",
    "\n",
    "As opposed to \n",
    "\n",
    "```\n",
    "def add_column(values, df=pandas.DataFrame()):\n",
    "  df['col_{}'.format(len(df.columns))] = values\n",
    "  return df\n",
    "```"
   ]
  },
  {
   "cell_type": "markdown",
   "metadata": {},
   "source": [
    "## Context Managers\n",
    "\n",
    "Typically used with files. Can open a file and it will be automatically closed after you're done with it. The key is the `with` keyword\n",
    "\n",
    "Ex:\n",
    "\n",
    "```\n",
    "with open('file.txt') as f:\n",
    "  x = f.readlines()\n",
    "```\n",
    "\n",
    "The file will be opened, read and then automatically closed\n",
    "\n",
    "---\n",
    "\n",
    "Ex 2: Count the number of times the word \"cat\" appears in \"Alice's Adventures in Wonderland\" by Lewis Carroll. You have already downloaded a text file, alice.txt, with the entire contents of this great book.\n",
    "\n",
    "```\n",
    "# Open \"alice.txt\" and assign the file to \"file\"\n",
    "with open('alice.txt') as file:\n",
    "  text = file.read()\n",
    "\n",
    "n = 0\n",
    "for word in text.split():\n",
    "  if word.lower() in ['cat', 'cats']:\n",
    "    n += 1\n",
    "\n",
    "print('Lewis Carroll uses the word \"cat\" {} times'.format(n))\n",
    "```\n",
    "\n",
    "Ex 3: You're testing code that processes data and determines if a cat is in a picture on instagram. You want to make it faster. Someone created a new context manager called `timer` to determine how fast a process is. Test it on `process_with_numpy()` and `process_with_pytorch()`\n",
    "\n",
    "```\n",
    "image = get_image_from_instagram()\n",
    "\n",
    "# Time how long process_with_numpy(image) takes to run\n",
    "with timer():\n",
    "  print('Numpy version')\n",
    "  process_with_numpy(image)\n",
    "\n",
    "# Time how long process_with_pytorch(image) takes to run\n",
    "with timer():\n",
    "  print('Pytorch version')\n",
    "  process_with_pytorch(image)\n",
    "```\n",
    "\n",
    "There was no `as <variable_name>` used at the end of the `with` statement because `timer()` is a context manager that doesn't return a value"
   ]
  },
  {
   "cell_type": "markdown",
   "metadata": {},
   "source": [
    "### Creating Context Managers\n",
    "\n",
    "Two ways to define context managers\n",
    "1. Class-based\n",
    "2. Function-based\n",
    "\n",
    "Five parts to creating a context manager\n",
    "1. Define function\n",
    "2. Add any set up code your context needs (optional)\n",
    "3. Use the `yield` keyword (returns the value but keeps running the code to the end)\n",
    "4. Add any teardown code your context needs (optional)\n",
    "5. Add the `@contextlib.contextmanager` decorator\n",
    "\n",
    "Setup and Teardown\n",
    "\n",
    "```\n",
    "@contextlib.contextmanager\n",
    "def database(url):\n",
    "  # set up database connection\n",
    "  db = postgres.connect(url)\n",
    "  yield db\n",
    "  # tear down database connection\n",
    "  db.disconnect()\n",
    "  \n",
    "url = 'http://datacamp.com/data'\n",
    "with database(url) as my_db:\n",
    "  course_list = my_db.execute(\n",
    "    'SELECT * FROM courses\n",
    "  )\n",
    "```"
   ]
  },
  {
   "cell_type": "code",
   "execution_count": 7,
   "metadata": {},
   "outputs": [
    {
     "name": "stdout",
     "output_type": "stream",
     "text": [
      "This should take approximately 0.25 seconds\n",
      "Elapsed: 0.25s\n"
     ]
    }
   ],
   "source": [
    "# The timer() context manager\n",
    "# Add a decorator that will make timer() a context manager\n",
    "import contextlib\n",
    "import time\n",
    "@contextlib.contextmanager\n",
    "def timer():\n",
    "  \"\"\"Time the execution of a context block.\n",
    "\n",
    "  Yields:\n",
    "    None\n",
    "  \"\"\"\n",
    "  start = time.time()\n",
    "  # Send control back to the context block\n",
    "  yield\n",
    "  end = time.time()\n",
    "  print('Elapsed: {:.2f}s'.format(end - start))\n",
    "\n",
    "# Test it out\n",
    "with timer():\n",
    "  print('This should take approximately 0.25 seconds')\n",
    "  time.sleep(0.25)"
   ]
  },
  {
   "cell_type": "markdown",
   "metadata": {},
   "source": [
    "Above, `yield` is written by itself as it doesn't return an explicit value\n",
    "\n",
    "It's also useful to add a `try` statement around `yield` to handle when a mistake is made or an error occurs and teardown still needs to occur\n",
    "\n",
    "```\n",
    "try:\n",
    "  yield\n",
    "finally:\n",
    "    file.close()\n",
    "```\n",
    "\n",
    "Above, no matter what the file in the context manager function will close"
   ]
  },
  {
   "cell_type": "markdown",
   "metadata": {},
   "source": [
    "Cotext Manager Patterns (When to possibly use a context manager)\n",
    "* Open-Close\n",
    "* Lock-Release\n",
    "* Change-Reset\n",
    "* Enter-Exit\n",
    "* Start-Stop\n",
    "* Setup-Teardown\n",
    "* Connect-Disconnect"
   ]
  },
  {
   "cell_type": "markdown",
   "metadata": {},
   "source": [
    "## Decorators\n",
    "\n",
    "\n",
    "### Functions as objects\n",
    "\n",
    "Functions are just another type of object like lists, arrays, dictionaries etc.\n",
    "\n",
    "You can assign it to a variable and call that function from the new variable\n",
    "\n",
    "ex:\n",
    "\n",
    "```\n",
    "x = my_function()\n",
    "x() # Execute \"my_function()\n",
    "```\n",
    "\n",
    "You can also assign it to a list or dictionary and then call it from there. \n",
    "\n",
    "```\n",
    "# Add the missing function references to the function map\n",
    "function_map = {\n",
    "  'mean': mean,\n",
    "  'std': std,\n",
    "  'minimum': minimum,\n",
    "  'maximum': maximum\n",
    "}\n",
    "\n",
    "data = load_data()\n",
    "print(data)\n",
    "\n",
    "func_name = get_user_input()\n",
    "\n",
    "# Call the chosen function and pass \"data\" as an argument\n",
    "function_map[func_name](data)\n",
    "```\n",
    "\n",
    "You can also pass a function to another function\n",
    "Below you're just checking if the function `log_product` has a docstring\n",
    "\n",
    "```\n",
    "def has_docstring(func):\n",
    "  \"\"\"Check to see if the function \n",
    "  `func` has a docstring.\n",
    "\n",
    "  Args:\n",
    "    func (callable): A function.\n",
    "\n",
    "  Returns:\n",
    "    bool\n",
    "  \"\"\"\n",
    "  return func.__doc__ is not None\n",
    "  \n",
    "# Call has_docstring() on the log_product() function\n",
    "ok = has_docstring(log_product)\n",
    "\n",
    "if not ok:\n",
    "  print(\"log_product() doesn't have a docstring!\")\n",
    "else:\n",
    "  print(\"log_product() looks ok\")\n",
    "```\n",
    "\n",
    "Even return a function as a value\n",
    "\n",
    "```\n",
    "def create_math_function(func_name):\n",
    "  if func_name == 'add':\n",
    "    def add(a, b):\n",
    "      return a + b\n",
    "    return add\n",
    "  elif func_name == 'subtract':\n",
    "    # Define the subtract() function\n",
    "    def subtract(a,b):\n",
    "      return a - b\n",
    "    return subtract\n",
    "  else:\n",
    "    print(\"I don't know that one\")\n",
    "    \n",
    "add = create_math_function('add')\n",
    "print('5 + 2 = {}'.format(add(5, 2)))\n",
    "\n",
    "subtract = create_math_function('subtract')\n",
    "print('5 - 2 = {}'.format(subtract(5, 2)))\n",
    "```"
   ]
  },
  {
   "cell_type": "markdown",
   "metadata": {},
   "source": [
    "### Scope\n",
    "\n",
    "Highest to lowest\n",
    "1. Builtins (like the `print()` function\n",
    "2. Global\n",
    "3. Nonlocal - In the case of nested functions, variables defined in the parent function that are used by the child function\n",
    "4. Local\n",
    "\n",
    "You can assign a variable to be global scope using the `global` keyword\n",
    "\n",
    "```\n",
    "call_count = 0\n",
    "\n",
    "def my_function():\n",
    "  # Use a keyword that lets us update call_count \n",
    "  ____ call_count\n",
    "  call_count += 1\n",
    "  \n",
    "  print(\"You've called my_function() {} times!\".format(\n",
    "    call_count\n",
    "  ))\n",
    "  \n",
    "for _ in range(20):\n",
    "  my_function()\n",
    "```\n",
    "\n",
    "You can assign a nonlocal variable using the `nonlocal` keyword\n",
    "Nonlocal variables are not always needed but in the case of nested functions\n",
    "\n",
    "```\n",
    "def read_files():\n",
    "  file_contents = None\n",
    "  \n",
    "  def save_contents(filename):\n",
    "    # Add a keyword that lets us modify file_contents\n",
    "    nonlocal file_contents\n",
    "    if file_contents is None:\n",
    "      file_contents = []\n",
    "    with open(filename) as fin:\n",
    "      file_contents.append(fin.read())\n",
    "      \n",
    "  for filename in ['1984.txt', 'MobyDick.txt', 'CatsEye.txt']:\n",
    "    save_contents(filename)\n",
    "    \n",
    "  return file_contents\n",
    "\n",
    "print('\\n'.join(read_files()))\n",
    "```"
   ]
  },
  {
   "cell_type": "markdown",
   "metadata": {},
   "source": [
    "### Closures\n",
    "\n",
    "Closures - Nonlocal variables attached to a return function so that the function can operate even when operated outside its' parent scope\n",
    "\n",
    "A tuple of variables that are no longer in scope but a function needs in order to run"
   ]
  },
  {
   "cell_type": "code",
   "execution_count": 8,
   "metadata": {},
   "outputs": [
    {
     "name": "stdout",
     "output_type": "stream",
     "text": [
      "25\n",
      "25\n",
      "1\n"
     ]
    },
    {
     "data": {
      "text/plain": [
       "25"
      ]
     },
     "execution_count": 8,
     "metadata": {},
     "output_type": "execute_result"
    }
   ],
   "source": [
    "# Closures example 1\n",
    "x = 25\n",
    "\n",
    "def foo(value):\n",
    "    def bar():\n",
    "        print(value)\n",
    "    return bar\n",
    "\n",
    "my_func = foo(x)\n",
    "my_func()\n",
    "\n",
    "del(x)\n",
    "my_func()\n",
    "\n",
    "# Even though x no longer exists, the needed value exists in the functions closure\n",
    "print( len(my_func.__closure__) )\n",
    "my_func.__closure__[0].cell_contents"
   ]
  },
  {
   "cell_type": "code",
   "execution_count": 9,
   "metadata": {},
   "outputs": [
    {
     "name": "stdout",
     "output_type": "stream",
     "text": [
      "[3, 4, {'chocolate': 'yummy'}, 22]\n",
      "44\n",
      "yummy\n",
      "7\n"
     ]
    }
   ],
   "source": [
    "# Closures example 2\n",
    "def parent(arg_1, arg_2):\n",
    "    value = 22\n",
    "    my_dict = {'chocolate': 'yummy'}\n",
    "    def child():\n",
    "        print(2 * value)\n",
    "        print(my_dict['chocolate'])\n",
    "        print(arg_1 + arg_2)\n",
    "    return child\n",
    "\n",
    "new_function = parent(3, 4)\n",
    "print([cell.cell_contents for cell in new_function.__closure__])\n",
    "new_function()"
   ]
  },
  {
   "cell_type": "code",
   "execution_count": 10,
   "metadata": {},
   "outputs": [
    {
     "name": "stdout",
     "output_type": "stream",
     "text": [
      "True\n",
      "True\n",
      "True\n"
     ]
    }
   ],
   "source": [
    "def return_a_func(arg1, arg2):\n",
    "    def new_func():\n",
    "        print('arg1 was {}'.format(arg1))\n",
    "        print('arg2 was {}'.format(arg2))\n",
    "    return new_func\n",
    "    \n",
    "my_func = return_a_func(2, 17)\n",
    "\n",
    "# Show the closure has content\n",
    "print(my_func.__closure__ is not None)\n",
    "\n",
    "# Show closure has length of 2\n",
    "print(len(my_func.__closure__) == 2)\n",
    "\n",
    "# Get the values of the variables in the closure\n",
    "closure_values = [my_func.__closure__[i].cell_contents for i in range(2)]\n",
    "print(closure_values == [2, 17])"
   ]
  },
  {
   "cell_type": "markdown",
   "metadata": {},
   "source": [
    "Values get added to a function's closure in the order they are defined in the enclosing function (in this case, `arg1`\n",
    "and then `arg2`), but only if they are used in the nested function. That is, if `return_a_func()` took a third argument (e.g., `arg3`) that wasn't used by `new_func()`, then it would not be captured in `new_func()`'s closure."
   ]
  },
  {
   "cell_type": "code",
   "execution_count": 11,
   "metadata": {},
   "outputs": [
    {
     "name": "stdout",
     "output_type": "stream",
     "text": [
      "You are running my_special_function()\n"
     ]
    }
   ],
   "source": [
    "def my_special_function():\n",
    "    print('You are running my_special_function()')\n",
    "\n",
    "def get_new_func(func):\n",
    "    def call_func():\n",
    "        func()\n",
    "    return call_func\n",
    "\n",
    "new_func = get_new_func(my_special_function)\n",
    "\n",
    "# Redefine my_special_function() to just print \"hello\"\n",
    "def my_special_function():\n",
    "    print('hello')\n",
    "\n",
    "new_func()"
   ]
  },
  {
   "cell_type": "code",
   "execution_count": 12,
   "metadata": {},
   "outputs": [
    {
     "name": "stdout",
     "output_type": "stream",
     "text": [
      "You are running my_special_function()\n"
     ]
    }
   ],
   "source": [
    "# Delete my_special_function()\n",
    "del(my_special_function)\n",
    "new_func()"
   ]
  },
  {
   "cell_type": "code",
   "execution_count": 13,
   "metadata": {},
   "outputs": [
    {
     "name": "stdout",
     "output_type": "stream",
     "text": [
      "You are running my_special_function()\n"
     ]
    }
   ],
   "source": [
    "def my_special_function():\n",
    "    print('You are running my_special_function()')\n",
    "\n",
    "# Overwrite `my_special_function` with the new function\n",
    "my_special_function = get_new_func(my_special_function)\n",
    "my_special_function()"
   ]
  },
  {
   "cell_type": "markdown",
   "metadata": {},
   "source": [
    "**Even if things are overwritten or deleted, the needed values are stored safely in the function's closure so that it can still run**"
   ]
  },
  {
   "cell_type": "markdown",
   "metadata": {},
   "source": [
    "### Starting Decorators\n",
    "\n",
    "Decorator - Wrapper for a function that changes its' behavior, modify inputs and modify outputs\n",
    "\n",
    "The two blocks of code below are the same except one uses decorator syntax. However they both work the same way.\n",
    "\n",
    "In this example the inputs to the `multiply` function are changed before being evaluated"
   ]
  },
  {
   "cell_type": "code",
   "execution_count": 14,
   "metadata": {},
   "outputs": [
    {
     "data": {
      "text/plain": [
       "20"
      ]
     },
     "execution_count": 14,
     "metadata": {},
     "output_type": "execute_result"
    }
   ],
   "source": [
    "# No decorator\n",
    "def double_args(func):\n",
    "    def wrapper(a, b):\n",
    "        return func(a * 2, b * 2)\n",
    "    return wrapper\n",
    "\n",
    "def multiply(a, b):\n",
    "    return a * b\n",
    "\n",
    "multiply = double_args(multiply)\n",
    "multiply(1, 5)"
   ]
  },
  {
   "cell_type": "code",
   "execution_count": 15,
   "metadata": {},
   "outputs": [
    {
     "data": {
      "text/plain": [
       "20"
      ]
     },
     "execution_count": 15,
     "metadata": {},
     "output_type": "execute_result"
    }
   ],
   "source": [
    "def double_args(func):\n",
    "    def wrapper(a, b):\n",
    "        return func(a * 2, b * 2)\n",
    "    return wrapper\n",
    "\n",
    "@double_args\n",
    "def multiply(a, b):\n",
    "    return a * b\n",
    "\n",
    "multiply(1, 5)"
   ]
  },
  {
   "cell_type": "markdown",
   "metadata": {},
   "source": [
    "Here's the process broken down for `multiply = double_args(multiply)`\n",
    "\n",
    "* `double_args()` returns a function\n",
    "* The function returned is `multiply(a*2,b*2)`"
   ]
  },
  {
   "cell_type": "code",
   "execution_count": 16,
   "metadata": {},
   "outputs": [
    {
     "name": "stdout",
     "output_type": "stream",
     "text": [
      "Before multiply\n",
      "50\n",
      "After multiply\n"
     ]
    }
   ],
   "source": [
    "# Define a wrapper that prints statements before and after function execution\n",
    "def print_before_and_after(func):\n",
    "    def wrapper(*args):\n",
    "        print('Before {}'.format(func.__name__))\n",
    "        # Call the function being decorated with *args\n",
    "        func(*args)\n",
    "        print('After {}'.format(func.__name__))\n",
    "        # Return the nested function\n",
    "    return wrapper\n",
    "\n",
    "@print_before_and_after\n",
    "def multiply(a, b):\n",
    "    print(a * b)\n",
    "\n",
    "multiply(5, 10)"
   ]
  },
  {
   "cell_type": "markdown",
   "metadata": {},
   "source": [
    "## More on Decorators\n",
    "\n",
    "When to use decorators: Add common code to multiple functions\n",
    "* Like timing how long a function takes or printing before and after messages"
   ]
  },
  {
   "cell_type": "code",
   "execution_count": 17,
   "metadata": {},
   "outputs": [
    {
     "name": "stdout",
     "output_type": "stream",
     "text": [
      "foo() returned type <class 'int'>\n",
      "42\n",
      "foo() returned type <class 'list'>\n",
      "[1, 2, 3]\n",
      "foo() returned type <class 'dict'>\n",
      "{'a': 42}\n"
     ]
    }
   ],
   "source": [
    "# A wrapper that can determine the type of the data returned\n",
    "def print_return_type(func):\n",
    "    # Define wrapper(), the decorated function\n",
    "    def wrapper(*args, **kwargs):\n",
    "      # Call the function being decorated\n",
    "      result = func(*args, **kwargs)\n",
    "      print('{}() returned type {}'.format(\n",
    "        func.__name__, type(result)\n",
    "      ))\n",
    "      return result\n",
    "  \n",
    "    # Return the decorated function\n",
    "    return wrapper\n",
    "  \n",
    "@print_return_type\n",
    "def foo(value):\n",
    "    return value\n",
    "  \n",
    "print(foo(42))\n",
    "print(foo([1, 2, 3]))\n",
    "print(foo({'a': 42}))"
   ]
  },
  {
   "cell_type": "code",
   "execution_count": 18,
   "metadata": {
    "code_folding": []
   },
   "outputs": [
    {
     "name": "stdout",
     "output_type": "stream",
     "text": [
      "calling foo()\n",
      "calling foo()\n",
      "foo() was called 2 times.\n"
     ]
    }
   ],
   "source": [
    "# Count how many times a function was called\n",
    "def counter(func):\n",
    "    def wrapper(*args, **kwargs):\n",
    "        wrapper.count += 1\n",
    "        # Call the function being decorated and return the result\n",
    "        return func(*args, **kwargs)\n",
    "\n",
    "    wrapper.count = 0\n",
    "    # Return the new decorated function\n",
    "    return wrapper\n",
    "\n",
    "# Decorate foo() with the counter() decorator\n",
    "@counter\n",
    "def foo():\n",
    "    print('calling foo()')\n",
    "  \n",
    "foo()\n",
    "foo()\n",
    "\n",
    "print('foo() was called {} times.'.format(foo.count))"
   ]
  },
  {
   "cell_type": "markdown",
   "metadata": {},
   "source": [
    "### Decorators and Metadata\n",
    "\n",
    "A problem with decorators is that they obscure the function's metadata\n",
    "    \n",
    "If you like at the function's name and docstring it will call the decorator's name and docstring\n",
    "* `print(func.__doc__)` and `print(func.__name__)`\n",
    "\n",
    "To fix simply add a wrapper to the returned function: `functools.wraps()`\n",
    "Below is an example"
   ]
  },
  {
   "cell_type": "code",
   "execution_count": 19,
   "metadata": {},
   "outputs": [
    {
     "name": "stdout",
     "output_type": "stream",
     "text": [
      "Hello\n",
      "30\n",
      "Print 'hello' and then call the decorated function.\n"
     ]
    }
   ],
   "source": [
    "# Will not print the docstring of the function\n",
    "def add_hello(func):\n",
    "    def wrapper(*args, **kwargs):\n",
    "        \"\"\"Print 'hello' and then call the decorated function.\"\"\"\n",
    "        print('Hello')\n",
    "        return func(*args, **kwargs)\n",
    "    return wrapper\n",
    "\n",
    "# Decorate print_sum() with the add_hello() decorator\n",
    "@add_hello\n",
    "def print_sum(a, b):\n",
    "    \"\"\"Adds two numbers and prints the sum\"\"\"\n",
    "    print(a + b)\n",
    "\n",
    "print_sum(10, 20)\n",
    "print(print_sum.__doc__)"
   ]
  },
  {
   "cell_type": "code",
   "execution_count": 20,
   "metadata": {},
   "outputs": [
    {
     "name": "stdout",
     "output_type": "stream",
     "text": [
      "Hello\n",
      "30\n",
      "Adds two numbers and prints the sum\n"
     ]
    }
   ],
   "source": [
    "# Will print the appropriate docstring\n",
    "from functools import wraps\n",
    "\n",
    "def add_hello(func):\n",
    "    @wraps(func)\n",
    "    def wrapper(*args, **kwargs):\n",
    "        \"\"\"Print 'hello' and then call the decorated function.\"\"\"\n",
    "        print('Hello')\n",
    "        return func(*args, **kwargs)\n",
    "    return wrapper\n",
    "\n",
    "# Decorate print_sum() with the add_hello() decorator\n",
    "@add_hello\n",
    "def print_sum(a, b):\n",
    "    \"\"\"Adds two numbers and prints the sum\"\"\"\n",
    "    print(a + b)\n",
    "  \n",
    "print_sum(10, 20)\n",
    "print(print_sum.__doc__)"
   ]
  },
  {
   "cell_type": "markdown",
   "metadata": {},
   "source": [
    "Even if the function is wrapped you still have access to the original version with the `.__wrapped__` attribute. Below example shows time it takes to run the function decorated and undecorated"
   ]
  },
  {
   "cell_type": "code",
   "execution_count": 21,
   "metadata": {},
   "outputs": [
    {
     "name": "stdout",
     "output_type": "stream",
     "text": [
      "Decorated time: 0.00009s\n",
      "Undecorated time: 0.00007s\n"
     ]
    }
   ],
   "source": [
    "def check_everything(func):\n",
    "    @wraps(func)\n",
    "    def wrapper(*args, **kwargs):\n",
    "        result = func(*args, **kwargs)\n",
    "        return result\n",
    "    return wrapper\n",
    "\n",
    "@check_everything\n",
    "def duplicate(my_list):\n",
    "    \"\"\"Return a new list that repeats the input twice\"\"\"\n",
    "    return my_list + my_list\n",
    "\n",
    "t_start = time.time()\n",
    "duplicated_list = duplicate(list(range(50)))\n",
    "t_end = time.time()\n",
    "decorated_time = t_end - t_start\n",
    "\n",
    "t_start = time.time()\n",
    "# Call the original function instead of the decorated one\n",
    "duplicated_list = duplicate.__wrapped__(list(range(50)))\n",
    "t_end = time.time()\n",
    "undecorated_time = t_end - t_start\n",
    "\n",
    "print('Decorated time: {:.5f}s'.format(decorated_time))\n",
    "print('Undecorated time: {:.5f}s'.format(undecorated_time))"
   ]
  },
  {
   "cell_type": "markdown",
   "metadata": {},
   "source": [
    "### Decorators with arguments\n",
    "\n",
    "Make a function that RETURNS a decorator than a function that IS a decorator"
   ]
  },
  {
   "cell_type": "code",
   "execution_count": 22,
   "metadata": {},
   "outputs": [],
   "source": [
    "# This function takes an input and then returns the function with a decorator\n",
    "def run_n_times(n):\n",
    "    \"\"\"Define and return a decorator\"\"\"\n",
    "    def decorator(func):\n",
    "        def wrapper(*args, **kwargs):\n",
    "            for i in range(n):\n",
    "                func(*args, **kwargs)\n",
    "        return wrapper\n",
    "    return decorator"
   ]
  },
  {
   "cell_type": "code",
   "execution_count": 23,
   "metadata": {},
   "outputs": [
    {
     "name": "stdout",
     "output_type": "stream",
     "text": [
      "35\n",
      "35\n",
      "35\n",
      "35\n",
      "35\n",
      "35\n",
      "35\n",
      "35\n",
      "35\n",
      "35\n"
     ]
    }
   ],
   "source": [
    "# Make print_sum() run 10 times with the run_n_times() decorator\n",
    "@run_n_times(10)\n",
    "def print_sum(a, b):\n",
    "    print(a + b)\n",
    "\n",
    "print_sum(15, 20)"
   ]
  },
  {
   "cell_type": "code",
   "execution_count": 24,
   "metadata": {},
   "outputs": [
    {
     "name": "stdout",
     "output_type": "stream",
     "text": [
      "104\n",
      "104\n",
      "104\n",
      "104\n",
      "104\n"
     ]
    }
   ],
   "source": [
    "# Use run_n_times() to create the run_five_times() decorator\n",
    "run_five_times = run_n_times(5)\n",
    "\n",
    "@run_five_times\n",
    "def print_sum(a, b):\n",
    "    print(a + b)\n",
    "\n",
    "print_sum(4, 100)"
   ]
  },
  {
   "cell_type": "code",
   "execution_count": 25,
   "metadata": {},
   "outputs": [
    {
     "name": "stdout",
     "output_type": "stream",
     "text": [
      "What is happening?!?!\n",
      "What is happening?!?!\n",
      "What is happening?!?!\n",
      "What is happening?!?!\n",
      "What is happening?!?!\n",
      "What is happening?!?!\n",
      "What is happening?!?!\n"
     ]
    }
   ],
   "source": [
    "# Modify the print() function to always run 7 times\n",
    "print2 = run_n_times(7)(print) #Pass first () to run_n_times func and pass second () to the nested func of run_n_times\n",
    "print2('What is happening?!?!')"
   ]
  },
  {
   "cell_type": "markdown",
   "metadata": {},
   "source": [
    "The below example is a decorator that wraps text in a html tag such as \"<i>\" for italics"
   ]
  },
  {
   "cell_type": "code",
   "execution_count": 26,
   "metadata": {},
   "outputs": [
    {
     "name": "stdout",
     "output_type": "stream",
     "text": [
      "<i>Hello Alice!</i>\n"
     ]
    }
   ],
   "source": [
    "def html(open_tag, close_tag):\n",
    "    def decorator(func):\n",
    "        @wraps(func)\n",
    "        def wrapper(*args, **kwargs):\n",
    "            msg = func(*args, **kwargs)\n",
    "            return '{}{}{}'.format(open_tag, msg, close_tag)\n",
    "    \n",
    "        # Return the decorated function\n",
    "        return wrapper\n",
    "    # Return the decorator\n",
    "    return decorator\n",
    "\n",
    "# Make hello() return bolded text\n",
    "@html('<i>', '</i>')\n",
    "def hello(name):\n",
    "    return 'Hello {}!'.format(name)\n",
    "  \n",
    "print(hello('Alice'))"
   ]
  },
  {
   "cell_type": "markdown",
   "metadata": {},
   "source": [
    "#### More examples\n",
    "\n",
    "The first example below just reiterates how to create a decorator that accepts arguments"
   ]
  },
  {
   "cell_type": "code",
   "execution_count": 27,
   "metadata": {},
   "outputs": [
    {
     "name": "stdout",
     "output_type": "stream",
     "text": [
      "('test', 'this is a tag')\n"
     ]
    }
   ],
   "source": [
    "def tag(*tags):\n",
    "  # Define a new decorator, named \"decorator\", to return\n",
    "  def decorator(func):\n",
    "    # Ensure the decorated function keeps its metadata\n",
    "    @wraps(func)\n",
    "    def wrapper(*args, **kwargs):\n",
    "      # Call the function being decorated and return the result\n",
    "      return func(*args, **kwargs)\n",
    "    wrapper.tags = tags\n",
    "    return wrapper\n",
    "  # Return the new decorator\n",
    "  return decorator\n",
    "\n",
    "@tag('test', 'this is a tag')\n",
    "def foo():\n",
    "  pass\n",
    "\n",
    "print(foo.tags)"
   ]
  },
  {
   "cell_type": "markdown",
   "metadata": {},
   "source": [
    "The below example tests whether the output is a dict or not"
   ]
  },
  {
   "cell_type": "code",
   "execution_count": 28,
   "metadata": {},
   "outputs": [
    {
     "name": "stdout",
     "output_type": "stream",
     "text": [
      "foo() did not return a dict!\n"
     ]
    }
   ],
   "source": [
    "def returns(return_type):\n",
    "  # Complete the returns() decorator\n",
    "  def decorator(func):\n",
    "    def wrapper(*args, **kwargs):\n",
    "      result = func(*args, **kwargs)\n",
    "      assert(type(result) == return_type)\n",
    "      return result\n",
    "    return wrapper\n",
    "  return decorator\n",
    "  \n",
    "@returns(dict)\n",
    "def foo(value):\n",
    "  return value\n",
    "\n",
    "try:\n",
    "  print(foo([1,2,3]))\n",
    "except AssertionError:\n",
    "  print('foo() did not return a dict!')"
   ]
  }
 ],
 "metadata": {
  "kernelspec": {
   "display_name": "Python 3",
   "language": "python",
   "name": "python3"
  },
  "language_info": {
   "codemirror_mode": {
    "name": "ipython",
    "version": 3
   },
   "file_extension": ".py",
   "mimetype": "text/x-python",
   "name": "python",
   "nbconvert_exporter": "python",
   "pygments_lexer": "ipython3",
   "version": "3.7.4"
  },
  "toc": {
   "base_numbering": 1,
   "nav_menu": {},
   "number_sections": true,
   "sideBar": true,
   "skip_h1_title": false,
   "title_cell": "Table of Contents",
   "title_sidebar": "Contents",
   "toc_cell": false,
   "toc_position": {},
   "toc_section_display": true,
   "toc_window_display": false
  }
 },
 "nbformat": 4,
 "nbformat_minor": 2
}
