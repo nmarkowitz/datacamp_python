{
 "cells": [
  {
   "cell_type": "markdown",
   "metadata": {},
   "source": [
    "# Pandas Foundations\n",
    "\n",
    "Noah Markowitz\n",
    "\n",
    "April 2019"
   ]
  },
  {
   "cell_type": "markdown",
   "metadata": {},
   "source": [
    "### Reviewing the basics of Pandas\n",
    "\n",
    "Inspecting with methods: \n",
    "* `.head()` \n",
    "* `.tail()`\n",
    "* `.info()`\n",
    "* `.describe()`\n",
    "\n",
    "Relevant details: \n",
    "* Pandas is aware of the data types in the columns of your DataFrame. It is also aware of null and NaN ('Not-a-Number') types which often indicate missing data.\n",
    "* Runs off of numpy arrays\n",
    "\n",
    "\n"
   ]
  },
  {
   "cell_type": "code",
   "execution_count": 1,
   "metadata": {},
   "outputs": [
    {
     "name": "stdout",
     "output_type": "stream",
     "text": [
      "                               CountryName CountryCode  Year  \\\n",
      "0                               Arab World         ARB  1960   \n",
      "1                   Caribbean small states         CSS  1960   \n",
      "2           Central Europe and the Baltics         CEB  1960   \n",
      "3  East Asia & Pacific (all income levels)         EAS  1960   \n",
      "4    East Asia & Pacific (developing only)         EAP  1960   \n",
      "\n",
      "   Total Population  Urban population (% of total)  \n",
      "0      9.249590e+07                      31.285384  \n",
      "1      4.190810e+06                      31.597490  \n",
      "2      9.140158e+07                      44.507921  \n",
      "3      1.042475e+09                      22.471132  \n",
      "4      8.964930e+08                      16.917679  \n",
      "\n",
      "~~~~~~~~~~~~~~~~~~~~~~~~~~~~~~~~~~~~~~~~~~~~~~~~~~~~~~~~~~~~~~~~\n",
      "\n",
      "                 CountryName CountryCode  Year  Total Population  \\\n",
      "13369  Virgin Islands (U.S.)         VIR  2014          104170.0   \n",
      "13370     West Bank and Gaza         WBG  2014         4294682.0   \n",
      "13371            Yemen, Rep.         YEM  2014        26183676.0   \n",
      "13372                 Zambia         ZMB  2014        15721343.0   \n",
      "13373               Zimbabwe         ZWE  2014        15245855.0   \n",
      "\n",
      "       Urban population (% of total)  \n",
      "13369                         95.203  \n",
      "13370                         75.026  \n",
      "13371                         34.027  \n",
      "13372                         40.472  \n",
      "13373                         32.501  \n",
      "\n",
      "~~~~~~~~~~~~~~~~~~~~~~~~~~~~~~~~~~~~~~~~~~~~~~~~~~~~~~~~~~~~~~~~\n",
      "\n"
     ]
    }
   ],
   "source": [
    "import pandas as pd\n",
    "import numpy as np\n",
    "\n",
    "df = pd.read_csv('world_ind_pop_data.csv')\n",
    "\n",
    "# Basic functions\n",
    "print(df.head(), end = '\\n\\n~~~~~~~~~~~~~~~~~~~~~~~~~~~~~~~~~~~~~~~~~~~~~~~~~~~~~~~~~~~~~~~~\\n\\n')\n",
    "print(df.tail(), end = '\\n\\n~~~~~~~~~~~~~~~~~~~~~~~~~~~~~~~~~~~~~~~~~~~~~~~~~~~~~~~~~~~~~~~~\\n\\n')"
   ]
  },
  {
   "cell_type": "markdown",
   "metadata": {},
   "source": [
    "Use `.info()` to see how much and what kind of data there is"
   ]
  },
  {
   "cell_type": "code",
   "execution_count": 2,
   "metadata": {},
   "outputs": [
    {
     "name": "stdout",
     "output_type": "stream",
     "text": [
      "<class 'pandas.core.frame.DataFrame'>\n",
      "RangeIndex: 13374 entries, 0 to 13373\n",
      "Data columns (total 5 columns):\n",
      "CountryName                      13374 non-null object\n",
      "CountryCode                      13374 non-null object\n",
      "Year                             13374 non-null int64\n",
      "Total Population                 13374 non-null float64\n",
      "Urban population (% of total)    13374 non-null float64\n",
      "dtypes: float64(2), int64(1), object(2)\n",
      "memory usage: 522.5+ KB\n",
      "None\n"
     ]
    }
   ],
   "source": [
    "print(df.info())"
   ]
  },
  {
   "cell_type": "markdown",
   "metadata": {},
   "source": [
    "Using numpy methods on pandas dataframes"
   ]
  },
  {
   "cell_type": "code",
   "execution_count": 3,
   "metadata": {},
   "outputs": [
    {
     "name": "stdout",
     "output_type": "stream",
     "text": [
      "np_vals has type <class 'numpy.ndarray'>\n",
      "np_vals_log10 has type <class 'numpy.ndarray'>\n",
      "df has type <class 'pandas.core.frame.DataFrame'>\n",
      "df_log10 has type <class 'pandas.core.frame.DataFrame'>\n"
     ]
    },
    {
     "data": {
      "text/plain": [
       "[None, None, None, None]"
      ]
     },
     "execution_count": 3,
     "metadata": {},
     "output_type": "execute_result"
    }
   ],
   "source": [
    "df = pd.read_csv('world_population.csv')\n",
    "\n",
    "# Create array of DataFrame values: np_vals\n",
    "np_vals = df.values\n",
    "\n",
    "# Create new array of base 10 logarithm values: np_vals_log10\n",
    "np_vals_log10 = np.log10(np_vals)\n",
    "\n",
    "# Create array of new DataFrame by passing df to np.log10(): df_log10\n",
    "df_log10 = np.log10(df)\n",
    "\n",
    "# Print original and new data containers\n",
    "[print(x, 'has type', type(eval(x))) for x in ['np_vals', 'np_vals_log10', 'df', 'df_log10']]"
   ]
  },
  {
   "cell_type": "markdown",
   "metadata": {},
   "source": [
    "##### Creating DataFrames\n",
    "\n",
    "Using functions such as:\n",
    "* `pd.read_csv()`\n",
    "* `pd.DataFrame()` using\n",
    "    + lists\n",
    "    + dictionaries\n",
    "    + dictionaries of a zip object\n",
    "\n",
    "Below, a zip object is converted into a list and then into a DataFrame"
   ]
  },
  {
   "cell_type": "code",
   "execution_count": 4,
   "metadata": {},
   "outputs": [
    {
     "name": "stdout",
     "output_type": "stream",
     "text": [
      "[('Country', ['United States', 'Soviet Union', 'United Kingdom']), ('Total', [1118, 473, 273])]\n",
      "          Country  Total\n",
      "0   United States   1118\n",
      "1    Soviet Union    473\n",
      "2  United Kingdom    273\n"
     ]
    }
   ],
   "source": [
    "# Create lists for dataframe\n",
    "list_keys = ['Country', 'Total']\n",
    "list_values = [['United States', 'Soviet Union', 'United Kingdom'], [1118, 473, 273]]\n",
    "\n",
    "# Zip the 2 lists together into one list of (key,value) tuples: zipped\n",
    "zipped = list(zip(list_keys, list_values))\n",
    "\n",
    "# Inspect the list using print()\n",
    "print(zipped)\n",
    "\n",
    "# Build a dictionary with the zipped list: data\n",
    "data = dict(zipped)\n",
    "\n",
    "# Build and inspect a DataFrame from the dictionary: df\n",
    "df = pd.DataFrame(data)\n",
    "print(df)"
   ]
  },
  {
   "cell_type": "markdown",
   "metadata": {},
   "source": [
    "If you didn't do it before, you can label your columns in a DataFrame"
   ]
  },
  {
   "cell_type": "code",
   "execution_count": 5,
   "metadata": {},
   "outputs": [
    {
     "name": "stdout",
     "output_type": "stream",
     "text": [
      "   year             artist                  song  chart weeks\n",
      "0  1980            Blondie               Call Me            6\n",
      "1  1981  Christopher Cross         Arthurs Theme            3\n",
      "2  1982          Joan Jett  I Love Rock and Roll            7\n"
     ]
    }
   ],
   "source": [
    "df = pd.DataFrame(data = {'a' : [1980, 1981, 1982], 'b' : ['Blondie', 'Christopher Cross', 'Joan Jett'], \n",
    "                          'c' : ['Call Me', 'Arthurs Theme', 'I Love Rock and Roll'], 'd' : [6,3,7]})\n",
    "\n",
    "# Build a list of labels: list_labels\n",
    "list_labels = ['year', 'artist', 'song', 'chart weeks']\n",
    "\n",
    "# Assign the list of labels to the columns attribute: df.columns\n",
    "df.columns = list_labels\n",
    "print(df)"
   ]
  },
  {
   "cell_type": "markdown",
   "metadata": {},
   "source": [
    "You can also create DataFrames using 'broadcasting'"
   ]
  },
  {
   "cell_type": "code",
   "execution_count": 6,
   "metadata": {},
   "outputs": [
    {
     "name": "stdout",
     "output_type": "stream",
     "text": [
      "   state             city\n",
      "0     PA          Manheim\n",
      "1     PA     Preston park\n",
      "2     PA      Biglerville\n",
      "3     PA          Indiana\n",
      "4     PA     Curwensville\n",
      "5     PA            Crown\n",
      "6     PA     Harveys lake\n",
      "7     PA  Mineral springs\n",
      "8     PA        Cassville\n",
      "9     PA       Hannastown\n",
      "10    PA        Saltsburg\n",
      "11    PA      Tunkhannock\n",
      "12    PA       Pittsburgh\n",
      "13    PA        Lemasters\n",
      "14    PA       Great bend\n"
     ]
    }
   ],
   "source": [
    "# Create list of cities\n",
    "cities = ['Manheim','Preston park','Biglerville','Indiana','Curwensville','Crown','Harveys lake','Mineral springs',\n",
    " 'Cassville','Hannastown','Saltsburg','Tunkhannock','Pittsburgh','Lemasters','Great bend']\n",
    "\n",
    "# Make a string with the value 'PA': state\n",
    "state = 'PA'\n",
    "\n",
    "# Construct a dictionary: data\n",
    "data = {'state': state, 'city': cities}\n",
    "\n",
    "# Construct a DataFrame from dictionary data: df\n",
    "df = pd.DataFrame(data = data)\n",
    "\n",
    "# Print the DataFrame\n",
    "print(df)"
   ]
  },
  {
   "cell_type": "markdown",
   "metadata": {},
   "source": [
    "##### Importing and Exporting Data\n",
    "\n",
    "First, reading in a file\n",
    "\n",
    "Some arguments to use when reading in using `pd.read_csv()` are:\n",
    "* `names` - What each column label is\n",
    "* `header` - Reset columns labels if already existing"
   ]
  },
  {
   "cell_type": "code",
   "execution_count": 7,
   "metadata": {},
   "outputs": [
    {
     "name": "stdout",
     "output_type": "stream",
     "text": [
      "   Year  Total Population\n",
      "0  1960      3.034971e+09\n",
      "1  1970      3.684823e+09\n",
      "2  1980      4.436590e+09\n",
      "3  1990      5.282716e+09\n",
      "4  2000      6.115974e+09\n",
      "5  2010      6.924283e+09\n",
      "   year    population\n",
      "0  1960  3.034971e+09\n",
      "1  1970  3.684823e+09\n",
      "2  1980  4.436590e+09\n",
      "3  1990  5.282716e+09\n",
      "4  2000  6.115974e+09\n",
      "5  2010  6.924283e+09\n"
     ]
    }
   ],
   "source": [
    "data_file = 'world_population.csv'\n",
    "\n",
    "# Read in the file: df1\n",
    "df1 = pd.read_csv(data_file)\n",
    "\n",
    "# Create a list of the new column labels: new_labels\n",
    "new_labels = ['year', 'population']\n",
    "\n",
    "# Read in the file, specifying the header and names parameters: df2\n",
    "df2 = pd.read_csv(data_file, header=0, names=new_labels)\n",
    "\n",
    "# Print both the DataFrames\n",
    "print(df1)\n",
    "print(df2)"
   ]
  },
  {
   "cell_type": "markdown",
   "metadata": {},
   "source": [
    "You can also import messy data. Files that are not nicely constructed like the one above. For the example below, the reasons the file is messy include:\n",
    "* multiple header lines\n",
    "* comment records (rows) interleaved throughout the data rows\n",
    "* space delimiters instead of commas.\n",
    "\n",
    "Arguments upon import you can use are:\n",
    "* `delimiter` - specify how each cell or piece of data is separated\n",
    "* `header` - Line number in the file that contains the header\n",
    "* `comment` - How to identify what is a comment in the file and ignore it"
   ]
  },
  {
   "cell_type": "code",
   "execution_count": 8,
   "metadata": {},
   "outputs": [
    {
     "name": "stdout",
     "output_type": "stream",
     "text": [
      "                                                   The following stock data was collect on 2016-AUG-25 from an unknown source\n",
      "These kind of ocmments are not very useful                                                  are they?                        \n",
      "probably should just throw this line away too          but not the next since those are column labels                        \n",
      "name Jan Feb Mar Apr May Jun Jul Aug Sep Oct No...                                                NaN                        \n",
      "# So that line you just read has all the column...                                                NaN                        \n",
      "IBM 156.08 160.01 159.81 165.22 172.25 167.15 1...                                                NaN                        \n",
      "\n",
      "~~~~~~~~~~~~~~~~~~~~~~~~~~~~~~~~~~~~~~~~~~~~~~~~~~~~~~~~~~~~~~~~\n",
      "\n",
      "     name     Jan     Feb     Mar     Apr     May     Jun     Jul     Aug  \\\n",
      "0     IBM  156.08  160.01  159.81  165.22  172.25  167.15  164.75  152.77   \n",
      "1    MSFT   45.51   43.08   42.13   43.47   47.53   45.96   45.61   45.51   \n",
      "2  GOOGLE  512.42  537.99  559.72  540.50  535.24  532.92  590.09  636.84   \n",
      "3   APPLE  110.64  125.43  125.97  127.29  128.76  127.81  125.34  113.39   \n",
      "\n",
      "      Sep     Oct     Nov     Dec  \n",
      "0  145.36  146.11  137.21  137.96  \n",
      "1   43.56   48.70   53.88   55.40  \n",
      "2  617.93  663.59  735.39  755.35  \n",
      "3  112.80  113.36  118.16  111.73  \n"
     ]
    }
   ],
   "source": [
    "file_messy = 'messy_stock_data.tsv'\n",
    "\n",
    "# Read the raw file as-is: df1\n",
    "df1 = pd.read_csv(file_messy)\n",
    "\n",
    "# Print the output of df1.head()\n",
    "print(df1.head(), end = '\\n\\n~~~~~~~~~~~~~~~~~~~~~~~~~~~~~~~~~~~~~~~~~~~~~~~~~~~~~~~~~~~~~~~~\\n\\n')\n",
    "\n",
    "# Read in the file with the correct parameters: df2\n",
    "df2 = pd.read_csv(file_messy, delimiter=' ', header=3, comment='#')\n",
    "\n",
    "# Print the output of df2.head()\n",
    "print(df2.head())"
   ]
  },
  {
   "cell_type": "markdown",
   "metadata": {},
   "source": [
    "Then you can export the now cleaned up data to new files"
   ]
  },
  {
   "cell_type": "code",
   "execution_count": 9,
   "metadata": {},
   "outputs": [],
   "source": [
    "file_clean = 'tmp_clean_stock_data.csv'\n",
    "\n",
    "# Save the cleaned up DataFrame to a CSV file without the index\n",
    "df2.to_csv(file_clean, index=False)\n",
    "\n",
    "# Save the cleaned up DataFrame to an excel file without the index\n",
    "df2.to_excel('file_clean.xlsx', index=False)"
   ]
  },
  {
   "cell_type": "markdown",
   "metadata": {},
   "source": [
    "##### Plotting with Pandas\n",
    "\n",
    "You can use matplotlib's method `.plot()` on a Pandas DataFrame"
   ]
  },
  {
   "cell_type": "code",
   "execution_count": 10,
   "metadata": {},
   "outputs": [
    {
     "data": {
      "text/plain": [
       "<Figure size 640x480 with 1 Axes>"
      ]
     },
     "metadata": {},
     "output_type": "display_data"
    }
   ],
   "source": [
    "import matplotlib.pyplot as plt\n",
    "\n",
    "# Import the DataFrame to be used in the next few exercises\n",
    "df_all = pd.read_csv('weather_data_austin_2010.csv')\n",
    "\n",
    "# Create dataframe for this round\n",
    "df = pd.DataFrame(df_all['Temperature'][0:600])\n",
    "\n",
    "# Create a plot with color='red'\n",
    "df.plot(color = 'red')\n",
    "\n",
    "# Add a title\n",
    "plt.title('Temperature in Austin')\n",
    "\n",
    "# Specify the x-axis label\n",
    "plt.xlabel('Hours since midnight August 1, 2010')\n",
    "\n",
    "# Specify the y-axis label\n",
    "plt.ylabel('Temperature (degrees F)')\n",
    "\n",
    "# Display the plot\n",
    "plt.show()"
   ]
  },
  {
   "cell_type": "markdown",
   "metadata": {},
   "source": [
    "There's also ways to plot DataFrames with multiple columns"
   ]
  },
  {
   "cell_type": "code",
   "execution_count": 11,
   "metadata": {},
   "outputs": [
    {
     "data": {
      "image/png": "[encoded data removed]",
      "text/plain": [
       "<Figure size 432x288 with 1 Axes>"
      ]
     },
     "metadata": {
      "needs_background": "light"
     },
     "output_type": "display_data"
    },
    {
     "data": {
      "image/png": "[encoded data removed]",
      "text/plain": [
       "<Figure size 432x288 with 3 Axes>"
      ]
     },
     "metadata": {
      "needs_background": "light"
     },
     "output_type": "display_data"
    },
    {
     "data": {
      "image/png": "[encoded data removed]",
      "text/plain": [
       "<Figure size 432x288 with 1 Axes>"
      ]
     },
     "metadata": {
      "needs_background": "light"
     },
     "output_type": "display_data"
    },
    {
     "data": {
      "image/png": "[encoded data removed]",
      "text/plain": [
       "<Figure size 432x288 with 1 Axes>"
      ]
     },
     "metadata": {
      "needs_background": "light"
     },
     "output_type": "display_data"
    }
   ],
   "source": [
    "l = 600\n",
    "df = pd.DataFrame({'Temperature (deg F)' : df_all['Temperature'][0:l], \n",
    "                   'Dew Point (deg F)' : df_all['DewPoint'][0:l], 'Pressure (atm)' : df_all['Pressure'][0:l]})\n",
    "\n",
    "# Plot all columns (default)\n",
    "df.plot()\n",
    "plt.show()\n",
    "\n",
    "# Plot all columns as subplots\n",
    "df.plot(subplots = True)\n",
    "plt.show()\n",
    "\n",
    "# Plot just the Dew Point data\n",
    "column_list1 = ['Dew Point (deg F)']\n",
    "df[column_list1].plot()\n",
    "plt.show()\n",
    "\n",
    "# Plot the Dew Point and Temperature data, but not the Pressure data\n",
    "column_list2 = ['Temperature (deg F)','Dew Point (deg F)']\n",
    "df[column_list2].plot()\n",
    "plt.show()"
   ]
  },
  {
   "cell_type": "markdown",
   "metadata": {},
   "source": [
    "### EDA in Pandas\n",
    "\n",
    "##### Visual EDA\n",
    "\n",
    "Such as histograms, scatterplots, swarm plots etc."
   ]
  },
  {
   "cell_type": "code",
   "execution_count": 12,
   "metadata": {},
   "outputs": [
    {
     "data": {
      "image/png": "[encoded data removed]",
      "text/plain": [
       "<Figure size 432x288 with 1 Axes>"
      ]
     },
     "metadata": {
      "needs_background": "light"
     },
     "output_type": "display_data"
    }
   ],
   "source": [
    "df = pd.read_csv('stock.csv')\n",
    "\n",
    "# Create a list of y-axis column names: y_columns\n",
    "y_columns = ['APPLE', 'IBM']\n",
    "\n",
    "# Generate a line plot\n",
    "df.plot(x='Month', y=y_columns)\n",
    "\n",
    "# Add the title\n",
    "plt.title('Monthly stock prices')\n",
    "\n",
    "# Add the y-axis label\n",
    "plt.ylabel('Price ($US)')\n",
    "\n",
    "# Display the plot\n",
    "plt.show()"
   ]
  },
  {
   "cell_type": "markdown",
   "metadata": {},
   "source": [
    "We can specify a plot to be a scatterplot with dots of varying sizes"
   ]
  },
  {
   "cell_type": "code",
   "execution_count": 13,
   "metadata": {},
   "outputs": [
    {
     "data": {
      "image/png": "[encoded data removed]",
      "text/plain": [
       "<Figure size 432x288 with 1 Axes>"
      ]
     },
     "metadata": {
      "needs_background": "light"
     },
     "output_type": "display_data"
    }
   ],
   "source": [
    "df = pd.read_csv('auto-mpg.csv')\n",
    "sizes = np.array([df['weight']])/100\n",
    "\n",
    "# Generate a scatter plot\n",
    "df.plot(kind='scatter', x='hp', y='mpg', s=sizes)\n",
    "\n",
    "# Add the title\n",
    "plt.title('Fuel efficiency vs Horse-power')\n",
    "\n",
    "# Add the x-axis label\n",
    "plt.xlabel('Horse-power')\n",
    "\n",
    "# Add the y-axis label\n",
    "plt.ylabel('Fuel efficiency (mpg)')\n",
    "\n",
    "# Display the plot\n",
    "plt.show()"
   ]
  },
  {
   "cell_type": "markdown",
   "metadata": {},
   "source": [
    "Now boxplots"
   ]
  },
  {
   "cell_type": "code",
   "execution_count": 14,
   "metadata": {},
   "outputs": [
    {
     "data": {
      "image/png": "[encoded data removed]",
      "text/plain": [
       "<Figure size 432x288 with 2 Axes>"
      ]
     },
     "metadata": {
      "needs_background": "light"
     },
     "output_type": "display_data"
    }
   ],
   "source": [
    "# Make a list of the column names to be plotted: cols\n",
    "cols = ['weight', 'mpg']\n",
    "\n",
    "# Generate the box plots\n",
    "df[cols].plot(kind = 'box', subplots = True)\n",
    "\n",
    "# Display the plot\n",
    "plt.show()"
   ]
  },
  {
   "cell_type": "markdown",
   "metadata": {},
   "source": [
    "Now for histograms, PDFs (probability density functions) and CDFs (cumulative density functions)\n",
    "* For PDF\n",
    "    + Need to specify `normed=True` in your call to `.hist()`, \n",
    "* CDF\n",
    "    + Need to specify `cumulative=True` in addition to `normed=True`.\n",
    "\n",
    "Down below:\n",
    "* Plot a PDF \n",
    "    + For the values in fraction column with 30 bins between 0 and 30%.\n",
    "    + `ax=axes[0]` means that this plot will appear in the first row.\n",
    "* Plot a CDF \n",
    "    + For the values in fraction with 30 bins between 0 and 30%.\n",
    "    + To make the CDF appear on the second row, you need to specify `ax=axes[1]`"
   ]
  },
  {
   "cell_type": "code",
   "execution_count": 15,
   "metadata": {
    "scrolled": true
   },
   "outputs": [
    {
     "data": {
      "image/png": "[encoded data removed]",
      "text/plain": [
       "<Figure size 432x288 with 2 Axes>"
      ]
     },
     "metadata": {
      "needs_background": "light"
     },
     "output_type": "display_data"
    }
   ],
   "source": [
    "df = pd.read_csv('tips.csv')\n",
    "\n",
    "# This formats the plots such that they appear on separate rows\n",
    "fig, axes = plt.subplots(nrows=2, ncols=1)\n",
    "\n",
    "# Plot the PDF\n",
    "df.fraction.plot(ax=axes[0], kind='hist', bins=30, density=True, range=(0,.3))\n",
    "\n",
    "# Plot the CDF\n",
    "df.fraction.plot(ax=axes[1], kind='hist', bins=30, density=True, cumulative=True, range=(0,0.3))\n",
    "plt.show()"
   ]
  },
  {
   "cell_type": "markdown",
   "metadata": {},
   "source": [
    "##### Statistical EDA"
   ]
  },
  {
   "cell_type": "code",
   "execution_count": 16,
   "metadata": {},
   "outputs": [
    {
     "name": "stdout",
     "output_type": "stream",
     "text": [
      "0.8\n",
      "\n",
      "~~~~~~~~~\n",
      "\n",
      "19.0\n",
      "\n",
      "~~~~~~~~~\n",
      "\n",
      "Year\n",
      "1970    38.594697\n",
      "1971    38.603481\n",
      "1972    39.066075\n",
      "1973    40.131826\n",
      "1974    41.715916\n",
      "dtype: float64\n"
     ]
    },
    {
     "data": {
      "image/png": "[encoded data removed]",
      "text/plain": [
       "<Figure size 432x288 with 1 Axes>"
      ]
     },
     "metadata": {
      "needs_background": "light"
     },
     "output_type": "display_data"
    }
   ],
   "source": [
    "df = pd.read_csv('percent-bachelors-degrees-women-usa.csv')\n",
    "df = df.set_index('Year')\n",
    "\n",
    "# Print the minimum value of the Engineering column\n",
    "print(df.Engineering.min(), end = '\\n\\n~~~~~~~~~\\n\\n')\n",
    "\n",
    "# Print the maximum value of the Engineering column\n",
    "print(df.Engineering.max(), end = '\\n\\n~~~~~~~~~\\n\\n')\n",
    "\n",
    "# Construct the mean percentage per year: mean\n",
    "mean = df.mean(axis='columns')\n",
    "print(mean.head())\n",
    "\n",
    "# Plot the average percentage per year\n",
    "mean.plot()\n",
    "\n",
    "# Display the plot\n",
    "plt.show()"
   ]
  },
  {
   "cell_type": "code",
   "execution_count": 17,
   "metadata": {},
   "outputs": [
    {
     "name": "stdout",
     "output_type": "stream",
     "text": [
      "count    1308.000000\n",
      "mean       33.295479\n",
      "std        51.758668\n",
      "min         0.000000\n",
      "25%         7.895800\n",
      "50%        14.454200\n",
      "75%        31.275000\n",
      "max       512.329200\n",
      "Name: fare, dtype: float64\n"
     ]
    },
    {
     "data": {
      "image/png": "[encoded data removed]",
      "text/plain": [
       "<Figure size 432x288 with 1 Axes>"
      ]
     },
     "metadata": {
      "needs_background": "light"
     },
     "output_type": "display_data"
    }
   ],
   "source": [
    "df = pd.read_csv('titanic.csv')\n",
    "\n",
    "# Print summary statistics of the fare column with .describe()\n",
    "print(df.fare.describe())\n",
    "\n",
    "# Generate a box plot of the fare column\n",
    "df.fare.plot(kind = 'box')\n",
    "\n",
    "# Show the plot\n",
    "plt.show()"
   ]
  },
  {
   "cell_type": "markdown",
   "metadata": {},
   "source": [
    "In this exercise, you'll investigate the probabilities of life expectancy in countries around the world.\n",
    "\n",
    "* Determine the number of countries reported in 2015. \n",
    "* There are a total of 260 unique countries in the entire dataset. \n",
    "* Then, you will compute the 5th and 95th percentiles of life expectancy over the entire dataset. \n",
    "* Finally, you will make a box plot of life expectancy every 50 years from 1800 to 2000. \n",
    "\n",
    "Notice the large change in the distributions over this period."
   ]
  },
  {
   "cell_type": "code",
   "execution_count": 18,
   "metadata": {},
   "outputs": [
    {
     "name": "stdout",
     "output_type": "stream",
     "text": [
      "208\n",
      "      Unnamed: 0   1800   1801   1802  1803  1804   1805   1806   1807  1808  \\\n",
      "0.05       12.95  25.40  25.30  25.20  25.2  25.2  25.40  25.40  25.40  25.3   \n",
      "0.95      246.05  37.92  37.35  38.37  38.0  38.3  38.37  38.37  38.37  38.0   \n",
      "\n",
      "       ...      2007   2008    2009    2010   2011    2012    2013   2014  \\\n",
      "0.05   ...     53.07  53.60  54.235  54.935  55.97  56.335  56.705  56.87   \n",
      "0.95   ...     80.73  80.93  81.200  81.365  81.60  81.665  81.830  82.00   \n",
      "\n",
      "        2015     2016  \n",
      "0.05  57.855  59.2555  \n",
      "0.95  82.100  82.1650  \n",
      "\n",
      "[2 rows x 218 columns]\n"
     ]
    },
    {
     "data": {
      "image/png": "[encoded data removed]",
      "text/plain": [
       "<Figure size 432x288 with 1 Axes>"
      ]
     },
     "metadata": {
      "needs_background": "light"
     },
     "output_type": "display_data"
    }
   ],
   "source": [
    "df = pd.read_csv('life_expectancy_at_birth.csv')\n",
    "\n",
    "# Print the number of countries reported in 2015\n",
    "print(df['2015'].count())\n",
    "\n",
    "# Print the 5th and 95th percentiles\n",
    "print(df.quantile([0.05, 0.95]))\n",
    "\n",
    "# Generate a box plot\n",
    "years = ['1800','1850','1900','1950','2000']\n",
    "df[years].plot(kind='box')\n",
    "plt.show()"
   ]
  },
  {
   "cell_type": "markdown",
   "metadata": {},
   "source": [
    "##### Filtering with Boolean Indexing\n",
    "\n",
    "Simple example below. Find out how many cars were built in Asia"
   ]
  },
  {
   "cell_type": "code",
   "execution_count": 19,
   "metadata": {},
   "outputs": [
    {
     "name": "stdout",
     "output_type": "stream",
     "text": [
      "mpg       79\n",
      "cyl       79\n",
      "displ     79\n",
      "hp        79\n",
      "weight    79\n",
      "accel     79\n",
      "yr        79\n",
      "origin    79\n",
      "name      79\n",
      "dtype: int64\n",
      "~~~~~~~~~~~\n",
      "79\n"
     ]
    }
   ],
   "source": [
    "df = pd.read_csv('auto-mpg.csv')\n",
    "print( df[df['origin'] == 'Asia'].count() , end = '\\n~~~~~~~~~~~\\n')\n",
    "\n",
    "# Or can simplify it to:\n",
    "print( df[df['origin'] == 'Asia']['origin'].count() )"
   ]
  },
  {
   "cell_type": "markdown",
   "metadata": {},
   "source": [
    "Let's use population filtering to determine how the automobiles in the US differ from the global average and standard deviation. How does the distribution of fuel efficiency (MPG) for the US differ from the global average and standard deviation?"
   ]
  },
  {
   "cell_type": "code",
   "execution_count": 20,
   "metadata": {},
   "outputs": [
    {
     "name": "stdout",
     "output_type": "stream",
     "text": [
      "mpg        -3.412449\n",
      "cyl         0.805612\n",
      "displ      53.100255\n",
      "hp         14.579592\n",
      "weight    394.905612\n",
      "accel      -0.551122\n",
      "yr         -0.387755\n",
      "dtype: float64\n",
      "~~~~~~~~~~~~~~~~~~~~~~\n",
      "mpg       -1.364623\n",
      "cyl       -0.049788\n",
      "displ     -6.267657\n",
      "hp         1.406630\n",
      "weight   -54.055870\n",
      "accel     -0.022844\n",
      "yr        -0.023369\n",
      "dtype: float64\n"
     ]
    }
   ],
   "source": [
    "# Compute the global mean and global standard deviation: global_mean, global_std\n",
    "global_mean = df.mean()\n",
    "global_std = df.std()\n",
    "\n",
    "# Filter the US population from the origin column: us\n",
    "us = df[df['origin'] == 'US']\n",
    "\n",
    "# Compute the US mean and US standard deviation: us_mean, us_std\n",
    "us_mean = us.mean()\n",
    "us_std = us.std()\n",
    "\n",
    "# Print the differences\n",
    "print(us_mean - global_mean, end = '\\n~~~~~~~~~~~~~~~~~~~~~~\\n')\n",
    "print(us_std - global_std)"
   ]
  },
  {
   "cell_type": "markdown",
   "metadata": {},
   "source": [
    "Population filtering can be used alongside plotting to quickly determine differences in distributions between the sub-populations. You'll work with the Titanic dataset.\n",
    "\n",
    "You can also filter using `.loc()` method"
   ]
  },
  {
   "cell_type": "code",
   "execution_count": 21,
   "metadata": {},
   "outputs": [
    {
     "data": {
      "image/png": "[encoded data removed]",
      "text/plain": [
       "<Figure size 432x288 with 3 Axes>"
      ]
     },
     "metadata": {
      "needs_background": "light"
     },
     "output_type": "display_data"
    }
   ],
   "source": [
    "titanic = pd.read_csv('titanic.csv')\n",
    "\n",
    "# Display the box plots on 3 separate rows and 1 column\n",
    "fig, axes = plt.subplots(nrows=3, ncols=1)\n",
    "\n",
    "# Generate a box plot of the fare prices for the First passenger class\n",
    "titanic.loc[titanic['pclass'] == 1].plot(ax=axes[0], y='fare', kind='box')\n",
    "\n",
    "# Generate a box plot of the fare prices for the Second passenger class\n",
    "titanic.loc[titanic['pclass'] == 2].plot(ax=axes[1], y='fare', kind='box')\n",
    "\n",
    "# Generate a box plot of the fare prices for the Third passenger class\n",
    "titanic.loc[titanic['pclass'] == 3].plot(ax=axes[2], y='fare', kind='box')\n",
    "\n",
    "# Display the plot\n",
    "plt.show()"
   ]
  },
  {
   "cell_type": "markdown",
   "metadata": {},
   "source": [
    "### Pandas and Time Series\n",
    "\n",
    "You can read in formatted date and time strings in a dataframe using `parse_dates = True` argument\n",
    "\n",
    "Ex: `df = pd.read_csv(filename, index_col='Date', parse_dates=True)`\n",
    "\n",
    "The argument `index_col` specifies what column should act as the index for the dataframe"
   ]
  },
  {
   "cell_type": "code",
   "execution_count": 22,
   "metadata": {},
   "outputs": [
    {
     "name": "stdout",
     "output_type": "stream",
     "text": [
      "                     Temperature  DewPoint  Pressure\n",
      "Date                                                \n",
      "2010-08-01 00:00:00         79.0      70.8       1.0\n",
      "2010-08-01 01:00:00         77.4      71.2       1.0\n",
      "2010-08-01 02:00:00         76.4      71.3       1.0\n",
      "2010-08-01 03:00:00         75.7      71.4       1.0\n",
      "2010-08-01 04:00:00         75.1      71.4       1.0\n",
      "2010-08-01 05:00:00         74.6      71.3       1.0\n",
      "2010-08-01 06:00:00         74.5      71.3       1.0\n",
      "2010-08-01 07:00:00         76.0      72.3       1.0\n",
      "2010-08-01 08:00:00         79.8      72.8       1.0\n",
      "2010-08-01 09:00:00         83.3      72.1       1.0\n",
      "2010-08-01 10:00:00         86.6      71.1       1.0\n",
      "2010-08-01 11:00:00         89.3      70.2       1.0\n",
      "2010-08-01 12:00:00         91.6      69.1       1.0\n",
      "2010-08-01 13:00:00         93.2      68.4       1.0\n",
      "2010-08-01 14:00:00         94.4      67.6       1.0\n",
      "2010-08-01 15:00:00         95.0      67.1       1.0\n",
      "2010-08-01 16:00:00         94.8      66.8       1.0\n",
      "2010-08-01 17:00:00         93.9      66.9       1.0\n",
      "2010-08-01 18:00:00         92.4      66.7       1.0\n",
      "2010-08-01 19:00:00         89.9      67.7       1.0\n",
      "2010-08-01 20:00:00         86.1      68.6       1.0\n",
      "2010-08-01 21:00:00         83.6      69.5       1.0\n",
      "2010-08-01 22:00:00         81.8      70.3       1.0\n",
      "2010-08-01 23:00:00         80.0      70.7       1.0\n"
     ]
    }
   ],
   "source": [
    "df = pd.read_csv('weather_data_austin_2010.csv', index_col='Date', parse_dates=True)\n",
    "\n",
    "# Locate specific date in the DataFrame\n",
    "print( df.loc['2010-Aug-01'] )"
   ]
  },
  {
   "cell_type": "markdown",
   "metadata": {},
   "source": [
    "You can also convert a list of dates and times using `pd.to_datetimes()` if you provide and datetime format for it to use"
   ]
  },
  {
   "cell_type": "code",
   "execution_count": 23,
   "metadata": {},
   "outputs": [
    {
     "name": "stdout",
     "output_type": "stream",
     "text": [
      "DatetimeIndex(['2010-01-01 00:00:00', '2010-01-01 01:00:00',\n",
      "               '2010-01-01 02:00:00', '2010-01-01 03:00:00',\n",
      "               '2010-01-01 04:00:00', '2010-01-01 05:00:00',\n",
      "               '2010-01-01 06:00:00', '2010-01-01 07:00:00',\n",
      "               '2010-01-01 08:00:00', '2010-01-01 09:00:00',\n",
      "               ...\n",
      "               '2010-12-31 14:00:00', '2010-12-31 15:00:00',\n",
      "               '2010-12-31 16:00:00', '2010-12-31 17:00:00',\n",
      "               '2010-12-31 18:00:00', '2010-12-31 19:00:00',\n",
      "               '2010-12-31 20:00:00', '2010-12-31 21:00:00',\n",
      "               '2010-12-31 22:00:00', '2010-12-31 23:00:00'],\n",
      "              dtype='datetime64[ns]', length=8759, freq=None)\n",
      "\n",
      "~~~~~~~~~~~~~~~~~~~~~~~~~~~~~~~~~~~~~~~~~~~~~~~~~~~~~~~~~~~~~~~~~~~~~~~~~~~~~~~~\n",
      "\n",
      "2010-01-01 00:00:00    46.2\n",
      "2010-01-01 01:00:00    44.6\n",
      "2010-01-01 02:00:00    44.1\n",
      "2010-01-01 03:00:00    43.8\n",
      "2010-01-01 04:00:00    43.5\n",
      "dtype: float64\n"
     ]
    }
   ],
   "source": [
    "date_list = df.index.tolist()\n",
    "temperature_list = df['Temperature'].tolist()\n",
    "\n",
    "# Prepare a format string: time_format\n",
    "time_format = '%Y-%m-%d %H:%M'\n",
    "\n",
    "# Convert date_list into a datetime object: my_datetimes\n",
    "my_datetimes = pd.to_datetime(date_list, format=time_format)  \n",
    "print(my_datetimes, end = '\\n\\n' + '~'*80 + '\\n\\n')\n",
    "\n",
    "# Construct a pandas Series using temperature_list and my_datetimes: time_series\n",
    "time_series = pd.Series(temperature_list, index=my_datetimes)\n",
    "print(time_series.head() )"
   ]
  },
  {
   "cell_type": "markdown",
   "metadata": {},
   "source": [
    "Partial string indexing and slicing\n",
    "\n",
    "Pandas time series support \"partial string\" indexing. What this means is that even when passed only a portion of the datetime, such as the date but not the time, pandas is remarkably good at doing what one would expect. Pandas datetime indexing also supports a wide variety of commonly used datetime string formats, even when mixed."
   ]
  },
  {
   "cell_type": "code",
   "execution_count": 24,
   "metadata": {},
   "outputs": [
    {
     "name": "stdout",
     "output_type": "stream",
     "text": [
      "2010-10-11 21:00:00    69.0\n",
      "2010-10-11 22:00:00    67.7\n",
      "dtype: float64\n",
      "\n",
      "~~~~~~~~~~~~~~~~~~~~~~~~~~~~~~~~~~~~~~~~\n",
      "\n",
      "2010-07-04 00:00:00    77.6\n",
      "2010-07-04 01:00:00    76.3\n",
      "2010-07-04 02:00:00    75.5\n",
      "2010-07-04 03:00:00    74.9\n",
      "2010-07-04 04:00:00    74.6\n",
      "dtype: float64\n",
      "\n",
      "~~~~~~~~~~~~~~~~~~~~~~~~~~~~~~~~~~~~~~~~\n",
      "\n",
      "2010-12-15 00:00:00    48.0\n",
      "2010-12-15 01:00:00    47.2\n",
      "2010-12-15 02:00:00    46.5\n",
      "2010-12-15 03:00:00    46.0\n",
      "2010-12-15 04:00:00    45.6\n",
      "dtype: float64\n",
      "\n",
      "~~~~~~~~~~~~~~~~~~~~~~~~~~~~~~~~~~~~~~~~\n",
      "\n"
     ]
    }
   ],
   "source": [
    "ts0 = time_series\n",
    "\n",
    "# Extract the hour from 9pm to 10pm on '2010-10-11': ts1\n",
    "ts1 = ts0.loc['2010-10-11 21:00:00':'2010-10-11 22:00:00']\n",
    "print(ts1, end = '\\n\\n' + '~'*40 + '\\n\\n')\n",
    "\n",
    "# Extract '2010-07-04' from ts0: ts2\n",
    "ts2 = ts0.loc['2010-07-04']\n",
    "print(ts2.head(), end = '\\n\\n' + '~'*40 + '\\n\\n')\n",
    "\n",
    "# Extract data from '2010-12-15' to '2010-12-31': ts3\n",
    "ts3 = ts0.loc['2010-12-15':'2010-12-31']\n",
    "print(ts3.head(), end = '\\n\\n' + '~'*40 + '\\n\\n')"
   ]
  },
  {
   "cell_type": "markdown",
   "metadata": {},
   "source": [
    "Reindexing the Index\n",
    "\n",
    "Reindexing is useful in preparation for adding or otherwise combining two time series data sets. To reindex the data, we provide a new index and ask pandas to try and match the old data to the new index. If data is unavailable for one of the new index dates or times, you must tell pandas how to fill it in. Otherwise, pandas will fill with NaN by default."
   ]
  },
  {
   "cell_type": "code",
   "execution_count": 25,
   "metadata": {},
   "outputs": [
    {
     "name": "stdout",
     "output_type": "stream",
     "text": [
      "Reindex without ffill method\n",
      "2016-07-01     0.0\n",
      "2016-07-02     NaN\n",
      "2016-07-03     NaN\n",
      "2016-07-04     1.0\n",
      "2016-07-05     2.0\n",
      "2016-07-06     3.0\n",
      "2016-07-07     4.0\n",
      "2016-07-08     5.0\n",
      "2016-07-09     NaN\n",
      "2016-07-10     NaN\n",
      "2016-07-11     6.0\n",
      "2016-07-12     7.0\n",
      "2016-07-13     8.0\n",
      "2016-07-14     9.0\n",
      "2016-07-15    10.0\n",
      "2016-07-16     NaN\n",
      "2016-07-17     NaN\n",
      "dtype: float64\n",
      "\n",
      "~~~~~~~~~~~~~~~~~~~~~~~~~~~~~~~~~~~~~~~~\n",
      "\n",
      "Reindex with ffill method\n",
      "2016-07-01     0\n",
      "2016-07-02     0\n",
      "2016-07-03     0\n",
      "2016-07-04     1\n",
      "2016-07-05     2\n",
      "2016-07-06     3\n",
      "2016-07-07     4\n",
      "2016-07-08     5\n",
      "2016-07-09     5\n",
      "2016-07-10     5\n",
      "2016-07-11     6\n",
      "2016-07-12     7\n",
      "2016-07-13     8\n",
      "2016-07-14     9\n",
      "2016-07-15    10\n",
      "2016-07-16    10\n",
      "2016-07-17    10\n",
      "dtype: int64\n",
      "\n",
      "~~~~~~~~~~~~~~~~~~~~~~~~~~~~~~~~~~~~~~~~\n",
      "\n",
      "Add two datetime series\n",
      "2016-07-01    0.0\n",
      "2016-07-02    NaN\n",
      "2016-07-03    NaN\n",
      "2016-07-04    4.0\n",
      "2016-07-05    6.0\n",
      "dtype: float64\n",
      "\n",
      "~~~~~~~~~~~~~~~~~~~~~~~~~~~~~~~~~~~~~~~~\n",
      "\n",
      "Add two datetime series\n",
      "2016-07-01    0.0\n",
      "2016-07-02    NaN\n",
      "2016-07-03    NaN\n",
      "2016-07-04    4.0\n",
      "2016-07-05    6.0\n",
      "dtype: float64\n",
      "\n",
      "~~~~~~~~~~~~~~~~~~~~~~~~~~~~~~~~~~~~~~~~\n",
      "\n",
      "Add two datetime series\n",
      "2016-07-01     0\n",
      "2016-07-02     1\n",
      "2016-07-03     2\n",
      "2016-07-04     4\n",
      "2016-07-05     6\n",
      "2016-07-06     8\n",
      "2016-07-07    10\n",
      "2016-07-08    12\n",
      "2016-07-09    13\n",
      "2016-07-10    14\n",
      "2016-07-11    16\n",
      "2016-07-12    18\n",
      "2016-07-13    20\n",
      "2016-07-14    22\n",
      "2016-07-15    24\n",
      "2016-07-16    25\n",
      "2016-07-17    26\n",
      "dtype: int64\n",
      "\n",
      "~~~~~~~~~~~~~~~~~~~~~~~~~~~~~~~~~~~~~~~~\n",
      "\n"
     ]
    }
   ],
   "source": [
    "ts1_tmp = ['2016-07-' + str(x).zfill(2) for x in range(1,18)]\n",
    "ts2_tmp = ['2016-07-01'] + ['2016-07-' + str(x).zfill(2) for x in range(4,9)] + ['2016-07-' + str(x).zfill(2) for x in range(11,16)]\n",
    "ts1 = pd.Series( range(len(ts1_tmp)), index = pd.to_datetime(ts1_tmp, format = '%Y-%m-%d'))\n",
    "ts2 = pd.Series( range(len(ts2_tmp)), index = pd.to_datetime(ts2_tmp, format = '%Y-%m-%d'))\n",
    "\n",
    "# Reindex without fill method: ts3\n",
    "ts3 = ts2.reindex(ts1.index)\n",
    "print('Reindex without ffill method')\n",
    "print(ts3, end = '\\n\\n' + '~'*40 + '\\n\\n')\n",
    "\n",
    "# Reindex with fill method, using forward fill: ts4\n",
    "ts4 = ts2.reindex(ts1.index, method = 'ffill')\n",
    "print('Reindex with ffill method')\n",
    "print(ts4, end = '\\n\\n' + '~'*40 + '\\n\\n')\n",
    "\n",
    "# Combine ts1 + ts2: sum12\n",
    "sum12 = ts1 + ts2\n",
    "print('Add two datetime series')\n",
    "print(sum12.head(), end = '\\n\\n' + '~'*40 + '\\n\\n')\n",
    "\n",
    "# Combine ts1 + ts3: sum13\n",
    "sum13 = ts1 + ts3\n",
    "print('Add two datetime series')\n",
    "print(sum13.head(), end = '\\n\\n' + '~'*40 + '\\n\\n')\n",
    "\n",
    "# Combine ts1 + ts4: sum14\n",
    "sum14 = ts1 + ts4\n",
    "print('Add two datetime series')\n",
    "print(sum14, end = '\\n\\n' + '~'*40 + '\\n\\n')"
   ]
  },
  {
   "cell_type": "markdown",
   "metadata": {},
   "source": [
    "##### Resampling Time-Series Data\n",
    "\n",
    "Pandas provides methods for resampling time series data. When downsampling or upsampling, the syntax is similar, but the methods called are different\n",
    "\n",
    "\n",
    "Resampling \n",
    "* Computing statistical methods (such as `.mean()`, `.median()`, `.count()` etc.) over different time intervals \n",
    "* Downsampling\n",
    "    + Reindexing time-series data to reduce frequency (such as measuring by weeks rather than days)\n",
    "* Upsampling\n",
    "    + Reindexing time-series data to increase frequency (such as hours to minutes)"
   ]
  },
  {
   "cell_type": "code",
   "execution_count": 26,
   "metadata": {},
   "outputs": [
    {
     "name": "stdout",
     "output_type": "stream",
     "text": [
      "Date\n",
      "2010-01-01 00:00:00    44.200000\n",
      "2010-01-01 06:00:00    45.933333\n",
      "2010-01-01 12:00:00    57.766667\n",
      "2010-01-01 18:00:00    49.450000\n",
      "2010-01-02 00:00:00    44.516667\n",
      "Freq: 6H, Name: Temperature, dtype: float64\n",
      "\n",
      "Above is the temperature mean of every 6 hours\n",
      "~~~~~~~~~~~~~~~~~~~~~~~~~~~~~~~~~~~~~~~~\n",
      "Date\n",
      "2010-01-01    24\n",
      "2010-01-02    24\n",
      "2010-01-03    24\n",
      "2010-01-04    24\n",
      "2010-01-05    24\n",
      "Freq: D, Name: Temperature, dtype: int64\n",
      "\n",
      "Above is the number of samples taken for each day\n",
      "~~~~~~~~~~~~~~~~~~~~~~~~~~~~~~~~~~~~~~~~"
     ]
    }
   ],
   "source": [
    "df = pd.read_csv('weather_data_austin_2010.csv', index_col='Date', parse_dates=True)\n",
    "\n",
    "# Downsample to 6 hour data and aggregate by mean: df1\n",
    "df1 = df['Temperature'].resample('6h').mean()\n",
    "print(df1.head(), end = '\\n\\nAbove is the temperature mean of every 6 hours' + '\\n' + '~'*40 + '\\n')\n",
    "\n",
    "# Downsample to daily data and count the number of data points: df2\n",
    "df2 = df['Temperature'].resample('D').count()\n",
    "print(df2.head(), end = '\\n\\nAbove is the number of samples taken for each day' + '\\n' + '~'*40)"
   ]
  },
  {
   "cell_type": "markdown",
   "metadata": {},
   "source": [
    "With pandas, you can resample in different ways on different subsets of your data. For example, resampling different months of data with different aggregations"
   ]
  },
  {
   "cell_type": "code",
   "execution_count": 27,
   "metadata": {},
   "outputs": [
    {
     "name": "stdout",
     "output_type": "stream",
     "text": [
      "Date\n",
      "2010-08-01    95.0\n",
      "2010-08-02    95.0\n",
      "2010-08-03    95.1\n",
      "2010-08-04    95.1\n",
      "2010-08-05    95.1\n",
      "Freq: D, Name: Temperature, dtype: float64\n",
      "\n",
      "~~~~~~~~~~~~~~~~~~~~~~~~~~~~~~~~~~~~~~~~\n",
      "\n",
      "Date\n",
      "2010-02-01    43.8\n",
      "2010-02-02    44.3\n",
      "2010-02-03    44.6\n",
      "2010-02-04    44.5\n",
      "2010-02-05    44.3\n",
      "Freq: D, Name: Temperature, dtype: float64\n"
     ]
    }
   ],
   "source": [
    "# Extract temperature data for August: august\n",
    "august = df.loc['2010-08-01' : '2010-08-31', 'Temperature']\n",
    "\n",
    "# Downsample to obtain only the daily highest temperatures in August: august_highs\n",
    "august_highs = august.resample('D').max()\n",
    "print(august_highs.head(), end = '\\n\\n' + '~'*40 + '\\n\\n')\n",
    "\n",
    "# Extract temperature data for February: february\n",
    "february = df.loc['2010-02-01' : '2010-02-28', 'Temperature']\n",
    "\n",
    "# Downsample to obtain the daily lowest temperatures in February: february_lows\n",
    "february_lows = february.resample('D').min()\n",
    "print(february_lows.head())"
   ]
  },
  {
   "cell_type": "markdown",
   "metadata": {},
   "source": [
    "###### Rolling mean and frequency\n",
    "\n",
    "Rolling means (or moving averages)\n",
    "* Generally used to smooth out short-term fluctuations in time series data \n",
    "* Also highlight long-term trends.\n",
    "* Uses the `.rolling()` method\n",
    "\n",
    "For example, with a Series `hourly_data`\n",
    "* `hourly_data.rolling(window=24).mean()` would compute new values for each hourly point, based on a 24-hour window stretching out **behind** each point. \n",
    "* The frequency of the output data is the same: it is still hourly. \n",
    "* Such an operation is useful for smoothing time series data."
   ]
  },
  {
   "cell_type": "code",
   "execution_count": 28,
   "metadata": {},
   "outputs": [
    {
     "data": {
      "image/png": "[encoded data removed]",
      "text/plain": [
       "<Figure size 432x288 with 1 Axes>"
      ]
     },
     "metadata": {
      "needs_background": "light"
     },
     "output_type": "display_data"
    }
   ],
   "source": [
    "df = pd.read_csv('weather_data_austin_2010.csv', index_col='Date', parse_dates=True)\n",
    "\n",
    "# Extract data from 2010-Aug-01 to 2010-Aug-15: unsmoothed\n",
    "unsmoothed = df['Temperature']['2010-08-01':'2010-08-15']\n",
    "\n",
    "# Apply a rolling mean with a 24 hour window: smoothed\n",
    "smoothed = unsmoothed.rolling(window = 24).mean()\n",
    "\n",
    "# Create a new DataFrame with columns smoothed and unsmoothed: august\n",
    "august = pd.DataFrame({'smoothed':smoothed, 'unsmoothed':unsmoothed})\n",
    "\n",
    "# Plot both smoothed and unsmoothed data using august.plot().\n",
    "august.plot()\n",
    "plt.show()"
   ]
  },
  {
   "cell_type": "code",
   "execution_count": 29,
   "metadata": {},
   "outputs": [
    {
     "name": "stdout",
     "output_type": "stream",
     "text": [
      "Date\n",
      "2010-08-01          NaN\n",
      "2010-08-02          NaN\n",
      "2010-08-03          NaN\n",
      "2010-08-04          NaN\n",
      "2010-08-05          NaN\n",
      "2010-08-06          NaN\n",
      "2010-08-07    95.114286\n",
      "2010-08-08    95.142857\n",
      "2010-08-09    95.171429\n",
      "2010-08-10    95.171429\n",
      "2010-08-11    95.157143\n",
      "2010-08-12    95.128571\n",
      "2010-08-13    95.100000\n",
      "2010-08-14    95.042857\n",
      "2010-08-15    94.971429\n",
      "2010-08-16    94.900000\n",
      "2010-08-17    94.857143\n",
      "2010-08-18    94.828571\n",
      "2010-08-19    94.814286\n",
      "2010-08-20    94.785714\n",
      "2010-08-21    94.757143\n",
      "2010-08-22    94.742857\n",
      "2010-08-23    94.714286\n",
      "2010-08-24    94.642857\n",
      "2010-08-25    94.542857\n",
      "2010-08-26    94.428571\n",
      "2010-08-27    94.271429\n",
      "2010-08-28    94.100000\n",
      "2010-08-29    93.914286\n",
      "2010-08-30    93.742857\n",
      "2010-08-31    93.571429\n",
      "Freq: D, Name: Temperature, dtype: float64\n"
     ]
    }
   ],
   "source": [
    "# Extract the August 2010 data: august\n",
    "august = df['Temperature']['2010-August']\n",
    "\n",
    "# Resample to daily data, aggregating by max: daily_highs\n",
    "daily_highs = august.resample('D').max()\n",
    "\n",
    "# Use a rolling 7-day window with method chaining to smooth the daily high temperatures in August\n",
    "daily_highs_smoothed = daily_highs.rolling(window=7).mean()\n",
    "print(daily_highs_smoothed)"
   ]
  },
  {
   "cell_type": "markdown",
   "metadata": {},
   "source": [
    "**Manipulating Time-Series**\n",
    "\n",
    "Using method chaining"
   ]
  },
  {
   "cell_type": "code",
   "execution_count": 30,
   "metadata": {},
   "outputs": [
    {
     "name": "stdout",
     "output_type": "stream",
     "text": [
      "<class 'pandas.core.frame.DataFrame'>\n",
      "DatetimeIndex: 1741 entries, 2015-07-01 to NaT\n",
      "Data columns (total 17 columns):\n",
      "  Carrier Code                            1741 non-null object\n",
      "Flight Number                             1740 non-null float64\n",
      "Tail Number                               1740 non-null object\n",
      "Destination Airport                       1740 non-null object\n",
      "Scheduled Departure Time                  1740 non-null object\n",
      "Actual Departure Time                     1740 non-null object\n",
      "Scheduled Elapsed Time(Minutes)           1740 non-null float64\n",
      "Actual Elapsed Time(Minutes)              1740 non-null float64\n",
      "Departure Delay(Minutes)                  1740 non-null float64\n",
      "Wheels-off Time                           1740 non-null object\n",
      "Taxi-out Time(Minutes)                    1740 non-null float64\n",
      "DelayCarrier(Minutes)                     1740 non-null float64\n",
      "DelayWeather(Minutes)                     1740 non-null float64\n",
      "DelayNational Aviation System(Minutes)    1740 non-null float64\n",
      "DelaySecurity(Minutes)                    1740 non-null float64\n",
      "DelayLate Aircraft Arrival(Minutes)       1740 non-null float64\n",
      "Unnamed: 17                               0 non-null float64\n",
      "dtypes: float64(11), object(6)\n",
      "memory usage: 244.8+ KB\n",
      "None\n"
     ]
    }
   ],
   "source": [
    "df = pd.read_csv('austin_airport_departure_data_2015_july.csv', header = 10, \n",
    "                 index_col = 'Date (MM/DD/YYYY)', parse_dates = True)\n",
    "\n",
    "print(df.info())"
   ]
  },
  {
   "cell_type": "code",
   "execution_count": 31,
   "metadata": {},
   "outputs": [
    {
     "name": "stdout",
     "output_type": "stream",
     "text": [
      "count    31.000000\n",
      "mean      9.322581\n",
      "std       1.989759\n",
      "min       3.000000\n",
      "25%       9.500000\n",
      "50%      10.000000\n",
      "75%      10.000000\n",
      "max      11.000000\n",
      "dtype: float64\n"
     ]
    }
   ],
   "source": [
    "# Strip extra whitespace from the column names: df.columns\n",
    "df.columns = df.columns.str.strip()\n",
    "\n",
    "# Extract data for which the destination airport is Dallas: dallas\n",
    "dallas = df['Destination Airport'].str.contains('DAL')\n",
    "\n",
    "# Compute the total number of Dallas departures each day: daily_departures\n",
    "daily_departures = dallas.resample('D').sum()\n",
    "\n",
    "# Generate the summary statistics for daily Dallas departures: stats\n",
    "stats = daily_departures.describe()\n",
    "print(stats)"
   ]
  },
  {
   "cell_type": "markdown",
   "metadata": {},
   "source": [
    "**Missing values and interpolation**\n",
    "\n",
    "One common application of interpolation in data analysis is to fill in missing data.\n",
    "\n",
    "In this exercise, noisy measured data that has some dropped or otherwise missing values has been loaded. The goal is to compare two time series, and then look at summary statistics of the differences. The problem is that one of the data sets is missing data at some of the times. "
   ]
  },
  {
   "cell_type": "code",
   "execution_count": 32,
   "metadata": {},
   "outputs": [
    {
     "name": "stdout",
     "output_type": "stream",
     "text": [
      "count    17.000000\n",
      "mean      2.882353\n",
      "std       1.585267\n",
      "min       0.000000\n",
      "25%       2.000000\n",
      "50%       2.666667\n",
      "75%       4.000000\n",
      "max       6.000000\n",
      "dtype: float64\n"
     ]
    }
   ],
   "source": [
    "# Set up the data to work with\n",
    "ts1_tmp = ['2016-07-' + str(x).zfill(2) for x in range(1,18)]\n",
    "ts2_tmp = ['2016-07-' + str(x).zfill(2) for x in [1,4,5,6,7,8,11,12,13,14,15] ]\n",
    "ts1 = pd.Series( range(len(ts1_tmp)), index = pd.to_datetime(ts1_tmp, format = '%Y-%m-%d'))\n",
    "ts2 = pd.Series( range(len(ts2_tmp)), index = pd.to_datetime(ts2_tmp, format = '%Y-%m-%d'))\n",
    "\n",
    "# Reset the index of ts2 to ts1, and then use linear interpolation to fill in the NaNs: ts2_interp\n",
    "ts2_interp = ts2.reindex(ts1.index).interpolate(how='linear')\n",
    "\n",
    "# Compute the absolute difference of ts1 and ts2_interp: differences \n",
    "differences = np.abs(ts2_interp - ts1)\n",
    "\n",
    "# Generate and print summary statistics of the differences\n",
    "print(differences.describe())"
   ]
  },
  {
   "cell_type": "code",
   "execution_count": 33,
   "metadata": {},
   "outputs": [
    {
     "name": "stdout",
     "output_type": "stream",
     "text": [
      "33    2015-07-01 05:43:00-05:00\n",
      "55    2015-07-01 16:27:00-05:00\n",
      "91    2015-07-02 05:47:00-05:00\n",
      "113   2015-07-02 16:23:00-05:00\n",
      "134   2015-07-03 05:30:00-05:00\n",
      "dtype: datetime64[ns, US/Central]\n",
      "~~~~~~~~~~~~~~~~~~~~~~~~~~~~~~~~~~~~~~~~\n",
      "33    2015-07-01 03:43:00-07:00\n",
      "55    2015-07-01 14:27:00-07:00\n",
      "91    2015-07-02 03:47:00-07:00\n",
      "113   2015-07-02 14:23:00-07:00\n",
      "134   2015-07-03 03:30:00-07:00\n",
      "dtype: datetime64[ns, US/Pacific]\n"
     ]
    }
   ],
   "source": [
    "df = pd.read_csv('austin_airport_departure_data_2015_july.csv', header = 10)\n",
    "\n",
    "# Build a Boolean mask to filter out all the 'LAX' departure flights: mask\n",
    "mask = df['Destination Airport '] == 'LAX'\n",
    "\n",
    "# Use the mask to subset the data: la\n",
    "la = df[mask]\n",
    "\n",
    "# Combine two columns of data to create a datetime series: times_tz_none \n",
    "times_tz_none = pd.to_datetime( la['Date (MM/DD/YYYY)'] + ' ' + la['Wheels-off Time'] )\n",
    "\n",
    "# Localize the time to US/Central: times_tz_central\n",
    "times_tz_central = times_tz_none.dt.tz_localize('US/Central')\n",
    "print( times_tz_central.head() , end = '\\n' + '~'*40 + '\\n')\n",
    "\n",
    "# Convert the datetimes from US/Central to US/Pacific\n",
    "times_tz_pacific = times_tz_central.dt.tz_convert('US/Pacific')\n",
    "print( times_tz_pacific.head() )"
   ]
  },
  {
   "cell_type": "markdown",
   "metadata": {},
   "source": [
    "##### Visualizing Time-Series Data\n",
    "\n",
    "Pandas handles datetimes not only in your data, but also in your plotting."
   ]
  },
  {
   "cell_type": "code",
   "execution_count": 34,
   "metadata": {},
   "outputs": [
    {
     "data": {
      "image/png": "[encoded data removed]",
      "text/plain": [
       "<Figure size 432x288 with 1 Axes>"
      ]
     },
     "metadata": {
      "needs_background": "light"
     },
     "output_type": "display_data"
    },
    {
     "data": {
      "image/png": "[encoded data removed]",
      "text/plain": [
       "<Figure size 432x288 with 1 Axes>"
      ]
     },
     "metadata": {
      "needs_background": "light"
     },
     "output_type": "display_data"
    }
   ],
   "source": [
    "df = pd.read_csv('weather_data_austin_2010.csv', usecols = ['Temperature', 'Date'])\n",
    "# Plot the raw data before setting the datetime index\n",
    "df.plot(title = 'Before setting datetime index')\n",
    "plt.show()\n",
    "\n",
    "# Convert the 'Date' column into a collection of datetime objects: df.Date\n",
    "df.Date = pd.to_datetime(df['Date'])\n",
    "\n",
    "# Set the index to be the converted 'Date' column\n",
    "df.set_index('Date',inplace = True)\n",
    "\n",
    "# Re-plot the DataFrame to see that the axis is now datetime aware!\n",
    "df.plot(title = 'After setting datetime index')\n",
    "plt.show()"
   ]
  },
  {
   "cell_type": "markdown",
   "metadata": {},
   "source": [
    "Plotting date ranges, partial indexing"
   ]
  },
  {
   "cell_type": "code",
   "execution_count": 35,
   "metadata": {},
   "outputs": [
    {
     "data": {
      "image/png": "[encoded data removed]",
      "text/plain": [
       "<Figure size 432x288 with 1 Axes>"
      ]
     },
     "metadata": {
      "needs_background": "light"
     },
     "output_type": "display_data"
    },
    {
     "data": {
      "image/png": "[encoded data removed]",
      "text/plain": [
       "<Figure size 432x288 with 1 Axes>"
      ]
     },
     "metadata": {
      "needs_background": "light"
     },
     "output_type": "display_data"
    }
   ],
   "source": [
    "df = pd.read_csv('weather_data_austin_2010.csv', index_col = 'Date', parse_dates = True)\n",
    "\n",
    "df.Temperature['2010-Jun':'2010-Aug'].plot()\n",
    "plt.show()\n",
    "#plt.clf()\n",
    "\n",
    "# Plot the one week data\n",
    "df.Temperature['2010-06-10':'2010-06-17'].plot()\n",
    "plt.show()\n",
    "#plt.clf()"
   ]
  },
  {
   "cell_type": "markdown",
   "metadata": {},
   "source": [
    "### Case Study\n",
    "\n",
    "Using weather data"
   ]
  },
  {
   "cell_type": "code",
   "execution_count": 36,
   "metadata": {},
   "outputs": [
    {
     "name": "stdout",
     "output_type": "stream",
     "text": [
      "   13904  20110101  0053  12  OVC045     10.00  .1  .2  .3 ...   .18  .19  \\\n",
      "0  13904  20110101   153  12  OVC049     10.00             ...              \n",
      "1  13904  20110101   253  12  OVC060     10.00             ...   030        \n",
      "2  13904  20110101   353  12  OVC065     10.00             ...              \n",
      "3  13904  20110101   453  12  BKN070     10.00             ...              \n",
      "4  13904  20110101   553  12  BKN065     10.00             ...   015        \n",
      "\n",
      "   29.95  .20  AA  .21  .22  .23 29.95.1  .24  \n",
      "0  30.01       AA                  30.02       \n",
      "1  30.01       AA                  30.02       \n",
      "2  30.03       AA                  30.04       \n",
      "3  30.04       AA                  30.04       \n",
      "4  30.06       AA                  30.06       \n",
      "\n",
      "[5 rows x 44 columns]\n",
      "\n",
      "****************************************\n",
      "\n",
      "      0         1    2   3       4  5      6  7  8  9  ...   34 35     36 37  \\\n",
      "0  13904  20110101   53  12  OVC045     10.00          ...          29.95      \n",
      "1  13904  20110101  153  12  OVC049     10.00          ...          30.01      \n",
      "2  13904  20110101  253  12  OVC060     10.00          ...  030     30.01      \n",
      "3  13904  20110101  353  12  OVC065     10.00          ...          30.03      \n",
      "4  13904  20110101  453  12  BKN070     10.00          ...          30.04      \n",
      "\n",
      "   38 39 40 41     42 43  \n",
      "0  AA           29.95     \n",
      "1  AA           30.02     \n",
      "2  AA           30.02     \n",
      "3  AA           30.04     \n",
      "4  AA           30.04     \n",
      "\n",
      "[5 rows x 44 columns]\n"
     ]
    }
   ],
   "source": [
    "# Import pandas\n",
    "import pandas as pd\n",
    "\n",
    "data_file = 'NOAA_QCLCD_2011_hourly_13904.txt'\n",
    "\n",
    "# Read in the data file: df\n",
    "df = pd.read_csv(data_file)\n",
    "\n",
    "# Print the output of df.head()\n",
    "print(df.head(), end = '\\n\\n' + '*'*40 + '\\n\\n')\n",
    "\n",
    "# Read in the data file with header=None: df_headers\n",
    "df_headers = pd.read_csv(data_file, header=None)\n",
    "\n",
    "# Print the output of df_headers.head()\n",
    "print(df_headers.head())"
   ]
  },
  {
   "cell_type": "markdown",
   "metadata": {},
   "source": [
    "##### Time to clean the data"
   ]
  },
  {
   "cell_type": "code",
   "execution_count": 37,
   "metadata": {},
   "outputs": [
    {
     "name": "stdout",
     "output_type": "stream",
     "text": [
      "    Wban      date  Time  StationType sky_condition visibility dry_bulb_faren  \\\n",
      "0  13904  20110101   153           12        OVC049      10.00             51   \n",
      "1  13904  20110101   253           12        OVC060      10.00             51   \n",
      "2  13904  20110101   353           12        OVC065      10.00             50   \n",
      "3  13904  20110101   453           12        BKN070      10.00             50   \n",
      "4  13904  20110101   553           12        BKN065      10.00             49   \n",
      "\n",
      "  dry_bulb_cel wet_bulb_faren wet_bulb_cel dew_point_faren dew_point_cel  \\\n",
      "0         10.6             37          3.0              14         -10.0   \n",
      "1         10.6             37          2.9              13         -10.6   \n",
      "2         10.0             38          3.1              17          -8.3   \n",
      "3         10.0             37          2.8              15          -9.4   \n",
      "4          9.4             37          2.8              17          -8.3   \n",
      "\n",
      "  relative_humidity wind_speed wind_direction station_pressure  \\\n",
      "0                23         10            340            29.49   \n",
      "1                22         15            010            29.49   \n",
      "2                27          7            350            29.51   \n",
      "3                25         11            020            29.51   \n",
      "4                28          6            010            29.53   \n",
      "\n",
      "  sea_level_pressure  \n",
      "0              30.01  \n",
      "1              30.01  \n",
      "2              30.03  \n",
      "3              30.04  \n",
      "4              30.06  \n"
     ]
    }
   ],
   "source": [
    "# Column labels\n",
    "column_labels = (\"Wban,date,Time,StationType,sky_condition,sky_conditionFlag,visibility,\"\n",
    "\"visibilityFlag,wx_and_obst_to_vision,wx_and_obst_to_visionFlag,dry_bulb_faren,dry_bulb_farenFlag,\"\n",
    "\"dry_bulb_cel,dry_bulb_celFlag,wet_bulb_faren,wet_bulb_farenFlag,wet_bulb_cel,wet_bulb_celFlag,\"\n",
    "\"dew_point_faren,dew_point_farenFlag,dew_point_cel,dew_point_celFlag,relative_humidity,\"\n",
    "\"relative_humidityFlag,wind_speed,wind_speedFlag,wind_direction,wind_directionFlag,value_for_wind_character,\"\n",
    "\"value_for_wind_characterFlag,station_pressure,station_pressureFlag,pressure_tendency,\"\n",
    "\"pressure_tendencyFlag,presschange,presschangeFlag,sea_level_pressure,sea_level_pressureFlag,\"\n",
    "\"record_type,hourly_precip,hourly_precipFlag,altimeter,altimeterFlag,junk\")\n",
    "\n",
    "# List of columns to drop\n",
    "list_to_drop = ['sky_conditionFlag','visibilityFlag','wx_and_obst_to_vision','wx_and_obst_to_visionFlag',\n",
    " 'dry_bulb_farenFlag','dry_bulb_celFlag','wet_bulb_farenFlag','wet_bulb_celFlag','dew_point_farenFlag',\n",
    " 'dew_point_celFlag','relative_humidityFlag','wind_speedFlag','wind_directionFlag','value_for_wind_character',\n",
    " 'value_for_wind_characterFlag','station_pressureFlag','pressure_tendencyFlag','pressure_tendency','presschange',\n",
    " 'presschangeFlag','sea_level_pressureFlag','hourly_precip','hourly_precipFlag','altimeter','record_type',\n",
    " 'altimeterFlag','junk']\n",
    "\n",
    "# Split on the comma to create a list: column_labels_list\n",
    "column_labels_list = column_labels.split(',')\n",
    "\n",
    "# Assign the new column labels to the DataFrame: df.columns\n",
    "df.columns = column_labels_list\n",
    "\n",
    "# Remove the appropriate columns: df_dropped\n",
    "df_dropped = df.drop(list_to_drop,axis = 'columns')\n",
    "\n",
    "# Print the output of df_dropped.head()\n",
    "print(df_dropped.head())"
   ]
  },
  {
   "cell_type": "markdown",
   "metadata": {},
   "source": [
    "**Cleaning DateTime data**"
   ]
  },
  {
   "cell_type": "code",
   "execution_count": 38,
   "metadata": {},
   "outputs": [
    {
     "name": "stdout",
     "output_type": "stream",
     "text": [
      "                      Wban      date  Time  StationType sky_condition  \\\n",
      "2011-01-01 01:53:00  13904  20110101  0153           12        OVC049   \n",
      "2011-01-01 02:53:00  13904  20110101  0253           12        OVC060   \n",
      "2011-01-01 03:53:00  13904  20110101  0353           12        OVC065   \n",
      "2011-01-01 04:53:00  13904  20110101  0453           12        BKN070   \n",
      "2011-01-01 05:53:00  13904  20110101  0553           12        BKN065   \n",
      "\n",
      "                    visibility dry_bulb_faren dry_bulb_cel wet_bulb_faren  \\\n",
      "2011-01-01 01:53:00      10.00             51         10.6             37   \n",
      "2011-01-01 02:53:00      10.00             51         10.6             37   \n",
      "2011-01-01 03:53:00      10.00             50         10.0             38   \n",
      "2011-01-01 04:53:00      10.00             50         10.0             37   \n",
      "2011-01-01 05:53:00      10.00             49          9.4             37   \n",
      "\n",
      "                    wet_bulb_cel dew_point_faren dew_point_cel  \\\n",
      "2011-01-01 01:53:00          3.0              14         -10.0   \n",
      "2011-01-01 02:53:00          2.9              13         -10.6   \n",
      "2011-01-01 03:53:00          3.1              17          -8.3   \n",
      "2011-01-01 04:53:00          2.8              15          -9.4   \n",
      "2011-01-01 05:53:00          2.8              17          -8.3   \n",
      "\n",
      "                    relative_humidity wind_speed wind_direction  \\\n",
      "2011-01-01 01:53:00                23         10            340   \n",
      "2011-01-01 02:53:00                22         15            010   \n",
      "2011-01-01 03:53:00                27          7            350   \n",
      "2011-01-01 04:53:00                25         11            020   \n",
      "2011-01-01 05:53:00                28          6            010   \n",
      "\n",
      "                    station_pressure sea_level_pressure  \n",
      "2011-01-01 01:53:00            29.49              30.01  \n",
      "2011-01-01 02:53:00            29.49              30.01  \n",
      "2011-01-01 03:53:00            29.51              30.03  \n",
      "2011-01-01 04:53:00            29.51              30.04  \n",
      "2011-01-01 05:53:00            29.53              30.06  \n"
     ]
    }
   ],
   "source": [
    "# Convert the date column to string: df_dropped['date']\n",
    "df_dropped['date'] = df_dropped['date'].astype(str)\n",
    "\n",
    "# Pad leading zeros to the Time column: df_dropped['Time']\n",
    "df_dropped['Time'] = df_dropped['Time'].apply(lambda x:'{:0>4}'.format(x))\n",
    "\n",
    "# Concatenate the new date and Time columns: date_string\n",
    "date_string = df_dropped['date'] + df_dropped['Time']\n",
    "\n",
    "# Convert the date_string Series to datetime: date_times\n",
    "date_times = pd.to_datetime(date_string, format='%Y%m%d%H%M')\n",
    "\n",
    "# Set the index to be the new date_times container: df_clean\n",
    "df_clean = df_dropped.set_index(date_times)\n",
    "\n",
    "# Print the output of df_clean.head()\n",
    "print(df_clean.head())"
   ]
  },
  {
   "cell_type": "markdown",
   "metadata": {},
   "source": [
    "**Cleaning Numeric Data**\n",
    "\n",
    "The numeric columns contain missing values labeled as `'M'`. In this exercise, your job is to transform these columns such that they contain only numeric values and interpret missing data as `NaN`.\n",
    "\n",
    "The pandas function `pd.to_numeric()` is ideal for this purpose: It converts a Series of values to floating-point values. Furthermore, by specifying the keyword argument `errors='coerce'`, you can force strings like `'M'` to be interpreted as `NaN`"
   ]
  },
  {
   "cell_type": "code",
   "execution_count": 39,
   "metadata": {},
   "outputs": [
    {
     "name": "stdout",
     "output_type": "stream",
     "text": [
      "2011-01-01 08:53:00    51\n",
      "Name: dry_bulb_faren, dtype: object\n",
      "2011-01-01 08:53:00    51.0\n",
      "Name: dry_bulb_faren, dtype: float64\n"
     ]
    }
   ],
   "source": [
    "# Print the dry_bulb_faren temperature between 8 AM and 9 AM on June 20, 2011\n",
    "print(df_clean.loc['2011-01-01 08:00:00':'2011-01-01 09:00:00', 'dry_bulb_faren'])\n",
    "\n",
    "# Convert the dry_bulb_faren column to numeric values: df_clean['dry_bulb_faren']\n",
    "df_clean['dry_bulb_faren'] = pd.to_numeric(df_clean['dry_bulb_faren'], errors='coerce')\n",
    "\n",
    "# Print the transformed dry_bulb_faren temperature between 8 AM and 9 AM on June 20, 2011\n",
    "print(df_clean.loc['2011-01-01 08:00:00':'2011-01-01 09:00:00', 'dry_bulb_faren'])\n",
    "\n",
    "# Convert the wind_speed and dew_point_faren columns to numeric values\n",
    "df_clean['wind_speed'] = pd.to_numeric(df_clean['wind_speed'], errors='coerce')\n",
    "df_clean['dew_point_faren'] = pd.to_numeric(df_clean['dew_point_faren'], errors='coerce')"
   ]
  },
  {
   "cell_type": "markdown",
   "metadata": {},
   "source": [
    "### Statistical Exploratory EDA"
   ]
  },
  {
   "cell_type": "code",
   "execution_count": 40,
   "metadata": {},
   "outputs": [
    {
     "name": "stdout",
     "output_type": "stream",
     "text": [
      "72.0\n",
      "78.0\n",
      "48.0\n"
     ]
    }
   ],
   "source": [
    "# Print the median of the dry_bulb_faren column\n",
    "print(df_clean['dry_bulb_faren'].median())\n",
    "\n",
    "# Print the median of the dry_bulb_faren column for the time range '2011-Apr':'2011-Jun'\n",
    "print(df_clean.loc['2011-Apr':'2011-Jun', 'dry_bulb_faren'].median())\n",
    "\n",
    "# Print the median of the dry_bulb_faren column for the month of January\n",
    "print(df_clean.loc['2011-Jan', 'dry_bulb_faren'].median())"
   ]
  },
  {
   "cell_type": "markdown",
   "metadata": {},
   "source": [
    "You're now ready to compare the 2011 weather data with the 30-year normals reported in 2010. You can ask questions such as, on average, how much hotter was every day in 2011 than expected from the 30-year average?\n",
    "\n",
    "The DataFrames df_clean and df_climate from previous exercises are available in the workspace.\n",
    "\n",
    "Your job is to first resample df_clean and df_climate by day and aggregate the mean temperatures. You will then extract the temperature related columns from each - 'dry_bulb_faren' in df_clean, and 'Temperature' in df_climate - as NumPy arrays and compute the difference.\n",
    "\n",
    "Notice that the indexes of df_clean and df_climate are not aligned - df_clean has dates in 2011, while df_climate has dates in 2010. This is why you extract the temperature columns as NumPy arrays. An alternative approach is to use the pandas .reset_index() method to make sure the Series align properly. You will practice this approach as well."
   ]
  },
  {
   "cell_type": "code",
   "execution_count": 41,
   "metadata": {},
   "outputs": [
    {
     "name": "stdout",
     "output_type": "stream",
     "text": [
      "1.330083921569873\n"
     ]
    }
   ],
   "source": [
    "df_climate = pd.read_csv('weather_data_austin_2010.csv', index_col='Date', parse_dates=True)\n",
    "\n",
    "# Downsample df_clean by day and aggregate by mean: daily_mean_2011\n",
    "daily_mean_2011 = df_clean.resample('24h').mean()\n",
    "\n",
    "# Extract the dry_bulb_faren column from daily_mean_2011 using .values: daily_temp_2011\n",
    "daily_temp_2011 = daily_mean_2011['dry_bulb_faren'].values\n",
    "\n",
    "# Downsample df_climate by day and aggregate by mean: daily_climate\n",
    "daily_climate = df_climate.resample('24h').mean()\n",
    "\n",
    "# Extract the Temperature column from daily_climate using .reset_index(): daily_temp_climate\n",
    "daily_temp_climate = daily_climate.reset_index()['Temperature']\n",
    "\n",
    "# Compute the difference between the two arrays and print the mean difference\n",
    "difference = daily_temp_2011 - daily_temp_climate\n",
    "print(difference.mean())"
   ]
  },
  {
   "cell_type": "markdown",
   "metadata": {},
   "source": [
    "On average, how much hotter is it when the sun is shining? In this exercise, you will compare temperatures on sunny days against temperatures on overcast days."
   ]
  },
  {
   "cell_type": "code",
   "execution_count": 42,
   "metadata": {},
   "outputs": [
    {
     "data": {
      "text/html": [
       "<div>\n",
       "<style scoped>\n",
       "    .dataframe tbody tr th:only-of-type {\n",
       "        vertical-align: middle;\n",
       "    }\n",
       "\n",
       "    .dataframe tbody tr th {\n",
       "        vertical-align: top;\n",
       "    }\n",
       "\n",
       "    .dataframe thead th {\n",
       "        text-align: right;\n",
       "    }\n",
       "</style>\n",
       "<table border=\"1\" class=\"dataframe\">\n",
       "  <thead>\n",
       "    <tr style=\"text-align: right;\">\n",
       "      <th></th>\n",
       "      <th>Wban</th>\n",
       "      <th>date</th>\n",
       "      <th>Time</th>\n",
       "      <th>StationType</th>\n",
       "      <th>sky_condition</th>\n",
       "      <th>dry_bulb_faren</th>\n",
       "      <th>dry_bulb_cel</th>\n",
       "      <th>wet_bulb_faren</th>\n",
       "      <th>wet_bulb_cel</th>\n",
       "      <th>dew_point_faren</th>\n",
       "      <th>dew_point_cel</th>\n",
       "      <th>relative_humidity</th>\n",
       "      <th>wind_speed</th>\n",
       "      <th>wind_direction</th>\n",
       "      <th>station_pressure</th>\n",
       "      <th>sea_level_pressure</th>\n",
       "    </tr>\n",
       "  </thead>\n",
       "  <tbody>\n",
       "    <tr>\n",
       "      <th>2011-01-01</th>\n",
       "      <td>13904.0</td>\n",
       "      <td>20110101</td>\n",
       "      <td>2353</td>\n",
       "      <td>12.0</td>\n",
       "      <td>CLR</td>\n",
       "      <td>59.0</td>\n",
       "      <td>8.3</td>\n",
       "      <td>45</td>\n",
       "      <td>7.2</td>\n",
       "      <td>28.0</td>\n",
       "      <td>-6.1</td>\n",
       "      <td>53</td>\n",
       "      <td>16.0</td>\n",
       "      <td>360</td>\n",
       "      <td>29.78</td>\n",
       "      <td>30.33</td>\n",
       "    </tr>\n",
       "    <tr>\n",
       "      <th>2011-01-02</th>\n",
       "      <td>13904.0</td>\n",
       "      <td>20110102</td>\n",
       "      <td>2253</td>\n",
       "      <td>12.0</td>\n",
       "      <td>CLR</td>\n",
       "      <td>35.0</td>\n",
       "      <td>1.7</td>\n",
       "      <td>32</td>\n",
       "      <td>0.1</td>\n",
       "      <td>28.0</td>\n",
       "      <td>-7.2</td>\n",
       "      <td>76</td>\n",
       "      <td>8.0</td>\n",
       "      <td>360</td>\n",
       "      <td>29.82</td>\n",
       "      <td>30.38</td>\n",
       "    </tr>\n",
       "    <tr>\n",
       "      <th>2011-01-03</th>\n",
       "      <td>13904.0</td>\n",
       "      <td>20110103</td>\n",
       "      <td>0453</td>\n",
       "      <td>12.0</td>\n",
       "      <td>CLR</td>\n",
       "      <td>32.0</td>\n",
       "      <td>0.0</td>\n",
       "      <td>29</td>\n",
       "      <td>-1.9</td>\n",
       "      <td>26.0</td>\n",
       "      <td>-4.4</td>\n",
       "      <td>85</td>\n",
       "      <td>0.0</td>\n",
       "      <td>000</td>\n",
       "      <td>29.71</td>\n",
       "      <td>30.27</td>\n",
       "    </tr>\n",
       "    <tr>\n",
       "      <th>2011-01-04</th>\n",
       "      <td>NaN</td>\n",
       "      <td>NaN</td>\n",
       "      <td>NaN</td>\n",
       "      <td>NaN</td>\n",
       "      <td>NaN</td>\n",
       "      <td>NaN</td>\n",
       "      <td>NaN</td>\n",
       "      <td>NaN</td>\n",
       "      <td>NaN</td>\n",
       "      <td>NaN</td>\n",
       "      <td>NaN</td>\n",
       "      <td>NaN</td>\n",
       "      <td>NaN</td>\n",
       "      <td>NaN</td>\n",
       "      <td>NaN</td>\n",
       "      <td>NaN</td>\n",
       "    </tr>\n",
       "    <tr>\n",
       "      <th>2011-01-05</th>\n",
       "      <td>13904.0</td>\n",
       "      <td>20110105</td>\n",
       "      <td>2353</td>\n",
       "      <td>12.0</td>\n",
       "      <td>CLR</td>\n",
       "      <td>35.0</td>\n",
       "      <td>1.7</td>\n",
       "      <td>33</td>\n",
       "      <td>0.3</td>\n",
       "      <td>29.0</td>\n",
       "      <td>-1.7</td>\n",
       "      <td>79</td>\n",
       "      <td>0.0</td>\n",
       "      <td>000</td>\n",
       "      <td>29.54</td>\n",
       "      <td>30.08</td>\n",
       "    </tr>\n",
       "  </tbody>\n",
       "</table>\n",
       "</div>"
      ],
      "text/plain": [
       "               Wban      date  Time  StationType sky_condition  \\\n",
       "2011-01-01  13904.0  20110101  2353         12.0           CLR   \n",
       "2011-01-02  13904.0  20110102  2253         12.0           CLR   \n",
       "2011-01-03  13904.0  20110103  0453         12.0           CLR   \n",
       "2011-01-04      NaN       NaN   NaN          NaN           NaN   \n",
       "2011-01-05  13904.0  20110105  2353         12.0           CLR   \n",
       "\n",
       "            dry_bulb_faren dry_bulb_cel wet_bulb_faren wet_bulb_cel  \\\n",
       "2011-01-01            59.0          8.3             45          7.2   \n",
       "2011-01-02            35.0          1.7             32          0.1   \n",
       "2011-01-03            32.0          0.0             29         -1.9   \n",
       "2011-01-04             NaN          NaN            NaN          NaN   \n",
       "2011-01-05            35.0          1.7             33          0.3   \n",
       "\n",
       "            dew_point_faren dew_point_cel relative_humidity  wind_speed  \\\n",
       "2011-01-01             28.0          -6.1                53        16.0   \n",
       "2011-01-02             28.0          -7.2                76         8.0   \n",
       "2011-01-03             26.0          -4.4                85         0.0   \n",
       "2011-01-04              NaN           NaN               NaN         NaN   \n",
       "2011-01-05             29.0          -1.7                79         0.0   \n",
       "\n",
       "           wind_direction station_pressure sea_level_pressure  \n",
       "2011-01-01            360            29.78              30.33  \n",
       "2011-01-02            360            29.82              30.38  \n",
       "2011-01-03            000            29.71              30.27  \n",
       "2011-01-04            NaN              NaN                NaN  \n",
       "2011-01-05            000            29.54              30.08  "
      ]
     },
     "execution_count": 42,
     "metadata": {},
     "output_type": "execute_result"
    }
   ],
   "source": [
    "# Using df_clean, when is sky_condition 'CLR'?\n",
    "is_sky_clear = df_clean['sky_condition']=='CLR'\n",
    "\n",
    "# Filter df_clean using is_sky_clear\n",
    "sunny = df_clean.loc[is_sky_clear]\n",
    "\n",
    "# Resample sunny by day then calculate the max\n",
    "sunny_daily_max = sunny.resample('D').max()\n",
    "\n",
    "# See the result\n",
    "sunny_daily_max.head()"
   ]
  },
  {
   "cell_type": "code",
   "execution_count": 43,
   "metadata": {},
   "outputs": [
    {
     "data": {
      "text/html": [
       "<div>\n",
       "<style scoped>\n",
       "    .dataframe tbody tr th:only-of-type {\n",
       "        vertical-align: middle;\n",
       "    }\n",
       "\n",
       "    .dataframe tbody tr th {\n",
       "        vertical-align: top;\n",
       "    }\n",
       "\n",
       "    .dataframe thead th {\n",
       "        text-align: right;\n",
       "    }\n",
       "</style>\n",
       "<table border=\"1\" class=\"dataframe\">\n",
       "  <thead>\n",
       "    <tr style=\"text-align: right;\">\n",
       "      <th></th>\n",
       "      <th>Wban</th>\n",
       "      <th>date</th>\n",
       "      <th>Time</th>\n",
       "      <th>StationType</th>\n",
       "      <th>sky_condition</th>\n",
       "      <th>dry_bulb_faren</th>\n",
       "      <th>dry_bulb_cel</th>\n",
       "      <th>wet_bulb_faren</th>\n",
       "      <th>wet_bulb_cel</th>\n",
       "      <th>dew_point_faren</th>\n",
       "      <th>dew_point_cel</th>\n",
       "      <th>relative_humidity</th>\n",
       "      <th>wind_speed</th>\n",
       "      <th>wind_direction</th>\n",
       "      <th>station_pressure</th>\n",
       "      <th>sea_level_pressure</th>\n",
       "    </tr>\n",
       "  </thead>\n",
       "  <tbody>\n",
       "    <tr>\n",
       "      <th>2011-01-01</th>\n",
       "      <td>13904.0</td>\n",
       "      <td>20110101</td>\n",
       "      <td>0353</td>\n",
       "      <td>12.0</td>\n",
       "      <td>OVC065</td>\n",
       "      <td>51.0</td>\n",
       "      <td>10.6</td>\n",
       "      <td>38</td>\n",
       "      <td>3.1</td>\n",
       "      <td>17.0</td>\n",
       "      <td>-8.3</td>\n",
       "      <td>27</td>\n",
       "      <td>15.0</td>\n",
       "      <td>350</td>\n",
       "      <td>29.51</td>\n",
       "      <td>30.03</td>\n",
       "    </tr>\n",
       "    <tr>\n",
       "      <th>2011-01-02</th>\n",
       "      <td>NaN</td>\n",
       "      <td>NaN</td>\n",
       "      <td>NaN</td>\n",
       "      <td>NaN</td>\n",
       "      <td>NaN</td>\n",
       "      <td>NaN</td>\n",
       "      <td>NaN</td>\n",
       "      <td>NaN</td>\n",
       "      <td>NaN</td>\n",
       "      <td>NaN</td>\n",
       "      <td>NaN</td>\n",
       "      <td>NaN</td>\n",
       "      <td>NaN</td>\n",
       "      <td>NaN</td>\n",
       "      <td>NaN</td>\n",
       "      <td>NaN</td>\n",
       "    </tr>\n",
       "    <tr>\n",
       "      <th>2011-01-03</th>\n",
       "      <td>13904.0</td>\n",
       "      <td>20110103</td>\n",
       "      <td>2353</td>\n",
       "      <td>12.0</td>\n",
       "      <td>SCT042 OVC055</td>\n",
       "      <td>58.0</td>\n",
       "      <td>9.4</td>\n",
       "      <td>49</td>\n",
       "      <td>9.7</td>\n",
       "      <td>45.0</td>\n",
       "      <td>7.0</td>\n",
       "      <td>79</td>\n",
       "      <td>10.0</td>\n",
       "      <td>200</td>\n",
       "      <td>29.70</td>\n",
       "      <td>M</td>\n",
       "    </tr>\n",
       "    <tr>\n",
       "      <th>2011-01-04</th>\n",
       "      <td>13904.0</td>\n",
       "      <td>20110104</td>\n",
       "      <td>2353</td>\n",
       "      <td>12.0</td>\n",
       "      <td>SCT010 OVC016</td>\n",
       "      <td>57.0</td>\n",
       "      <td>8.9</td>\n",
       "      <td>56</td>\n",
       "      <td>9.4</td>\n",
       "      <td>56.0</td>\n",
       "      <td>8.9</td>\n",
       "      <td>100</td>\n",
       "      <td>8.0</td>\n",
       "      <td>VR</td>\n",
       "      <td>29.59</td>\n",
       "      <td>M</td>\n",
       "    </tr>\n",
       "    <tr>\n",
       "      <th>2011-01-05</th>\n",
       "      <td>13904.0</td>\n",
       "      <td>20110105</td>\n",
       "      <td>0653</td>\n",
       "      <td>12.0</td>\n",
       "      <td>SCT006 OVC011</td>\n",
       "      <td>57.0</td>\n",
       "      <td>14.0</td>\n",
       "      <td>56</td>\n",
       "      <td>13.5</td>\n",
       "      <td>56.0</td>\n",
       "      <td>13.3</td>\n",
       "      <td>96</td>\n",
       "      <td>3.0</td>\n",
       "      <td>250</td>\n",
       "      <td>29.48</td>\n",
       "      <td>M</td>\n",
       "    </tr>\n",
       "  </tbody>\n",
       "</table>\n",
       "</div>"
      ],
      "text/plain": [
       "               Wban      date  Time  StationType  sky_condition  \\\n",
       "2011-01-01  13904.0  20110101  0353         12.0         OVC065   \n",
       "2011-01-02      NaN       NaN   NaN          NaN            NaN   \n",
       "2011-01-03  13904.0  20110103  2353         12.0  SCT042 OVC055   \n",
       "2011-01-04  13904.0  20110104  2353         12.0  SCT010 OVC016   \n",
       "2011-01-05  13904.0  20110105  0653         12.0  SCT006 OVC011   \n",
       "\n",
       "            dry_bulb_faren dry_bulb_cel wet_bulb_faren wet_bulb_cel  \\\n",
       "2011-01-01            51.0         10.6             38          3.1   \n",
       "2011-01-02             NaN          NaN            NaN          NaN   \n",
       "2011-01-03            58.0          9.4             49          9.7   \n",
       "2011-01-04            57.0          8.9             56          9.4   \n",
       "2011-01-05            57.0         14.0             56         13.5   \n",
       "\n",
       "            dew_point_faren dew_point_cel relative_humidity  wind_speed  \\\n",
       "2011-01-01             17.0          -8.3                27        15.0   \n",
       "2011-01-02              NaN           NaN               NaN         NaN   \n",
       "2011-01-03             45.0           7.0                79        10.0   \n",
       "2011-01-04             56.0           8.9               100         8.0   \n",
       "2011-01-05             56.0          13.3                96         3.0   \n",
       "\n",
       "           wind_direction station_pressure sea_level_pressure  \n",
       "2011-01-01            350            29.51              30.03  \n",
       "2011-01-02            NaN              NaN                NaN  \n",
       "2011-01-03            200            29.70                  M  \n",
       "2011-01-04            VR             29.59                  M  \n",
       "2011-01-05            250            29.48                  M  "
      ]
     },
     "execution_count": 43,
     "metadata": {},
     "output_type": "execute_result"
    }
   ],
   "source": [
    "# Using df_clean, when does sky_condition contain 'OVC'?\n",
    "is_sky_overcast = df_clean['sky_condition'].str.contains('OVC')\n",
    "\n",
    "# Filter df_clean using is_sky_overcast\n",
    "overcast = df_clean.loc[is_sky_overcast]\n",
    "\n",
    "# Resample overcast by day then calculate the max\n",
    "overcast_daily_max = overcast.resample('D').max()\n",
    "\n",
    "# See the result\n",
    "overcast_daily_max.head()"
   ]
  },
  {
   "cell_type": "markdown",
   "metadata": {},
   "source": [
    "The above steps and the outcome can be joined together like so"
   ]
  },
  {
   "cell_type": "code",
   "execution_count": 44,
   "metadata": {},
   "outputs": [
    {
     "name": "stdout",
     "output_type": "stream",
     "text": [
      "Wban               0.000000\n",
      "StationType        0.000000\n",
      "dry_bulb_faren     6.504304\n",
      "dew_point_faren   -4.339286\n",
      "wind_speed        -3.246062\n",
      "dtype: float64\n"
     ]
    }
   ],
   "source": [
    "# From previous steps\n",
    "is_sky_clear = df_clean['sky_condition']=='CLR'\n",
    "sunny = df_clean.loc[is_sky_clear]\n",
    "sunny_daily_max = sunny.resample('D').max()\n",
    "is_sky_overcast = df_clean['sky_condition'].str.contains('OVC')\n",
    "overcast = df_clean.loc[is_sky_overcast]\n",
    "overcast_daily_max = overcast.resample('D').max()\n",
    "\n",
    "# Calculate the mean of sunny_daily_max\n",
    "sunny_daily_max_mean = sunny_daily_max.mean()\n",
    "\n",
    "# Calculate the mean of overcast_daily_max\n",
    "overcast_daily_max_mean = overcast_daily_max.mean()\n",
    "\n",
    "# Print the difference (sunny minus overcast)\n",
    "print(sunny_daily_max_mean - overcast_daily_max_mean)"
   ]
  },
  {
   "cell_type": "markdown",
   "metadata": {},
   "source": [
    "##### Visual EDA\n",
    "\n",
    "Is there a correlation between temperature and visibility? Let's find out.\n",
    "\n",
    "In this exercise, your job is to plot the weekly average temperature and visibility as subplots. To do this, you need to first select the appropriate columns and then resample by week, aggregating the mean.\n",
    "\n",
    "In addition to creating the subplots, you will compute the Pearson correlation coefficient using `.corr()`. The Pearson correlation coefficient, known also as Pearson's r, ranges from -1 (indicating total negative linear correlation) to 1 (indicating total positive linear correlation). A value close to 1 here would indicate that there is a strong correlation between temperature and visibility."
   ]
  },
  {
   "cell_type": "code",
   "execution_count": 45,
   "metadata": {},
   "outputs": [
    {
     "name": "stdout",
     "output_type": "stream",
     "text": [
      "                dry_bulb_faren\n",
      "dry_bulb_faren             1.0\n"
     ]
    },
    {
     "data": {
      "image/png": "[encoded data removed]",
      "text/plain": [
       "<Figure size 432x288 with 1 Axes>"
      ]
     },
     "metadata": {
      "needs_background": "light"
     },
     "output_type": "display_data"
    }
   ],
   "source": [
    "# Import matplotlib.pyplot as plt\n",
    "import matplotlib.pyplot as plt\n",
    "\n",
    "# Select the visibility and dry_bulb_faren columns and resample them: weekly_mean\n",
    "weekly_mean = df_clean[['visibility','dry_bulb_faren']].resample('W').mean()\n",
    "\n",
    "# Print the output of weekly_mean.corr()\n",
    "print(weekly_mean.corr())\n",
    "\n",
    "# Plot weekly_mean with subplots=True\n",
    "weekly_mean.plot(subplots=True)\n",
    "plt.show()"
   ]
  },
  {
   "cell_type": "markdown",
   "metadata": {},
   "source": [
    "Daily hours of clear sky\n",
    "\n",
    "In a previous exercise, you analyzed the 'sky_condition' column to explore the difference in temperature on sunny days compared to overcast days. Recall that a 'sky_condition' of 'CLR' represents a sunny day. In this exercise, you will explore sunny days in greater detail. Specifically, you will use a box plot to visualize the fraction of days that are sunny.\n",
    "\n",
    "The 'sky_condition' column is recorded hourly. Your job is to resample this column appropriately such that you can extract the number of sunny hours in a day and the number of total hours. Then, you can divide the number of sunny hours by the number of total hours, and generate a box plot of the resulting fraction."
   ]
  },
  {
   "cell_type": "code",
   "execution_count": 47,
   "metadata": {},
   "outputs": [
    {
     "name": "stdout",
     "output_type": "stream",
     "text": [
      "DatetimeIndexResampler [freq=<Day>, axis=0, closed=left, label=left, convention=start, base=0]\n"
     ]
    }
   ],
   "source": [
    "# Using df_clean, when is sky_condition 'CLR'?\n",
    "is_sky_clear = df_clean['sky_condition'] == 'CLR'\n",
    "\n",
    "# Resample is_sky_clear by day\n",
    "resampled = is_sky_clear.resample('D')\n",
    "\n",
    "# See the result\n",
    "print(resampled)"
   ]
  },
  {
   "cell_type": "code",
   "execution_count": 48,
   "metadata": {},
   "outputs": [],
   "source": [
    "# From previous step\n",
    "is_sky_clear = df_clean['sky_condition'] == 'CLR'\n",
    "resampled = is_sky_clear.resample('D')\n",
    "\n",
    "# Calculate the number of sunny hours per day\n",
    "sunny_hours = resampled.sum()\n",
    "\n",
    "# Calculate the number of measured hours per day\n",
    "total_hours = resampled.count()\n",
    "\n",
    "# Calculate the fraction of hours per day that were sunny\n",
    "sunny_fraction = sunny_hours/total_hours"
   ]
  },
  {
   "cell_type": "code",
   "execution_count": 49,
   "metadata": {},
   "outputs": [
    {
     "data": {
      "image/png": "[encoded data removed]",
      "text/plain": [
       "<Figure size 432x288 with 1 Axes>"
      ]
     },
     "metadata": {
      "needs_background": "light"
     },
     "output_type": "display_data"
    }
   ],
   "source": [
    "# From previous steps\n",
    "is_sky_clear = df_clean['sky_condition'] == 'CLR'\n",
    "resampled = is_sky_clear.resample('D')\n",
    "sunny_hours = resampled.sum()\n",
    "total_hours = resampled.count()\n",
    "sunny_fraction = sunny_hours / total_hours\n",
    "\n",
    "# Make a box plot of sunny_fraction\n",
    "sunny_fraction.plot(kind='box')\n",
    "plt.show()"
   ]
  },
  {
   "cell_type": "markdown",
   "metadata": {},
   "source": [
    "Heat or humidity\n",
    "\n",
    "Dew point is a measure of relative humidity based on pressure and temperature. A dew point above 65 is considered uncomfortable while a temperature above 90 is also considered uncomfortable.\n",
    "\n",
    "In this exercise, you will explore the maximum temperature and dew point of each month. The columns of interest are 'dew_point_faren' and 'dry_bulb_faren'. After resampling them appropriately to get the maximum temperature and dew point in each month, generate a histogram of these values as subplots. Uncomfortably, you will notice that the maximum dew point is above 65 every month!"
   ]
  },
  {
   "cell_type": "code",
   "execution_count": 50,
   "metadata": {},
   "outputs": [
    {
     "data": {
      "image/png": "[encoded data removed]",
      "text/plain": [
       "<Figure size 432x288 with 2 Axes>"
      ]
     },
     "metadata": {
      "needs_background": "light"
     },
     "output_type": "display_data"
    }
   ],
   "source": [
    "# Resample dew_point_faren and dry_bulb_faren by Month, aggregating the maximum values: monthly_max\n",
    "monthly_max = df_clean[['dew_point_faren', 'dry_bulb_faren']].resample('M').max()\n",
    "\n",
    "# Generate a histogram with bins=8, alpha=0.5, subplots=True\n",
    "monthly_max.plot(kind = 'hist', bins = 8, alpha = 0.5, subplots=True)\n",
    "\n",
    "# Show the plot\n",
    "plt.show()"
   ]
  },
  {
   "cell_type": "markdown",
   "metadata": {},
   "source": [
    "Probability of high temperatures\n",
    "\n",
    "We already know that 2011 was hotter than the climate normals for the previous thirty years. In this final exercise, you will compare the maximum temperature in August 2011 against that of the August 2010 climate normals. More specifically, you will use a CDF plot to determine the probability of the 2011 daily maximum temperature in August being above the 2010 climate normal value. To do this, you will leverage the data manipulation, filtering, resampling, and visualization skills you have acquired throughout this course.\n",
    "\n"
   ]
  },
  {
   "cell_type": "code",
   "execution_count": 51,
   "metadata": {},
   "outputs": [
    {
     "name": "stdout",
     "output_type": "stream",
     "text": [
      "95.3\n"
     ]
    },
    {
     "name": "stderr",
     "output_type": "stream",
     "text": [
      "/anaconda3/lib/python3.7/site-packages/matplotlib/axes/_axes.py:6521: MatplotlibDeprecationWarning: \n",
      "The 'normed' kwarg was deprecated in Matplotlib 2.1 and will be removed in 3.1. Use 'density' instead.\n",
      "  alternative=\"'density'\", removal=\"3.1\")\n"
     ]
    },
    {
     "data": {
      "image/png": "[encoded data removed]",
      "text/plain": [
       "<Figure size 432x288 with 1 Axes>"
      ]
     },
     "metadata": {
      "needs_background": "light"
     },
     "output_type": "display_data"
    }
   ],
   "source": [
    "# Extract the maximum temperature in August 2010 from df_climate: august_max\n",
    "august_max = df_climate.loc['2010-08', 'Temperature'].max()\n",
    "print(august_max)\n",
    "\n",
    "# Resample August 2011 temps in df_clean by day & aggregate the max value: august_2011\n",
    "august_2011 = df_clean.loc['2011-08', 'dry_bulb_faren'].resample('D').max()\n",
    "\n",
    "\n",
    "# Filter for days in august_2011 where the value exceeds august_max: august_2011_high\n",
    "\n",
    "august_2011_high = august_2011[august_2011 > august_max]\n",
    "\n",
    "# Construct a CDF of august_2011_high\n",
    "august_2011_high.plot(kind = 'hist', normed = True, cumulative = True, bins = 25)\n",
    "\n",
    "# Display the plot\n",
    "plt.show()"
   ]
  },
  {
   "cell_type": "code",
   "execution_count": null,
   "metadata": {},
   "outputs": [],
   "source": []
  }
 ],
 "metadata": {
  "kernelspec": {
   "display_name": "Python 3",
   "language": "python",
   "name": "python3"
  },
  "language_info": {
   "codemirror_mode": {
    "name": "ipython",
    "version": 3
   },
   "file_extension": ".py",
   "mimetype": "text/x-python",
   "name": "python",
   "nbconvert_exporter": "python",
   "pygments_lexer": "ipython3",
   "version": "3.7.1"
  }
 },
 "nbformat": 4,
 "nbformat_minor": 2
}
